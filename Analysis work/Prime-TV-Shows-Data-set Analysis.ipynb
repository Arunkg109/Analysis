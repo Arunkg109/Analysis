{
 "cells": [
  {
   "cell_type": "code",
   "execution_count": 183,
   "id": "720a6258",
   "metadata": {},
   "outputs": [],
   "source": [
    "import pandas as pd \n",
    "from matplotlib import pyplot as plt\n",
    "import seaborn as sns"
   ]
  },
  {
   "cell_type": "code",
   "execution_count": 184,
   "id": "1e3fb359",
   "metadata": {},
   "outputs": [
    {
     "data": {
      "text/html": [
       "<div>\n",
       "<style scoped>\n",
       "    .dataframe tbody tr th:only-of-type {\n",
       "        vertical-align: middle;\n",
       "    }\n",
       "\n",
       "    .dataframe tbody tr th {\n",
       "        vertical-align: top;\n",
       "    }\n",
       "\n",
       "    .dataframe thead th {\n",
       "        text-align: right;\n",
       "    }\n",
       "</style>\n",
       "<table border=\"1\" class=\"dataframe\">\n",
       "  <thead>\n",
       "    <tr style=\"text-align: right;\">\n",
       "      <th></th>\n",
       "      <th>S.no.</th>\n",
       "      <th>Name of the show</th>\n",
       "      <th>Year of release</th>\n",
       "      <th>No of seasons available</th>\n",
       "      <th>Language</th>\n",
       "      <th>Genre</th>\n",
       "      <th>IMDb rating</th>\n",
       "      <th>Age of viewers</th>\n",
       "    </tr>\n",
       "  </thead>\n",
       "  <tbody>\n",
       "    <tr>\n",
       "      <th>0</th>\n",
       "      <td>1</td>\n",
       "      <td>Pataal Lok</td>\n",
       "      <td>2020</td>\n",
       "      <td>1</td>\n",
       "      <td>Hindi</td>\n",
       "      <td>Drama</td>\n",
       "      <td>7.5</td>\n",
       "      <td>18+</td>\n",
       "    </tr>\n",
       "    <tr>\n",
       "      <th>1</th>\n",
       "      <td>2</td>\n",
       "      <td>Upload</td>\n",
       "      <td>2020</td>\n",
       "      <td>1</td>\n",
       "      <td>English</td>\n",
       "      <td>Sci-fi comedy</td>\n",
       "      <td>8.1</td>\n",
       "      <td>16+</td>\n",
       "    </tr>\n",
       "    <tr>\n",
       "      <th>2</th>\n",
       "      <td>3</td>\n",
       "      <td>The Marvelous Mrs. Maisel</td>\n",
       "      <td>2017</td>\n",
       "      <td>3</td>\n",
       "      <td>English</td>\n",
       "      <td>Drama, Comedy</td>\n",
       "      <td>8.7</td>\n",
       "      <td>16+</td>\n",
       "    </tr>\n",
       "    <tr>\n",
       "      <th>3</th>\n",
       "      <td>4</td>\n",
       "      <td>Four More Shots Please</td>\n",
       "      <td>2019</td>\n",
       "      <td>2</td>\n",
       "      <td>Hindi</td>\n",
       "      <td>Drama, Comedy</td>\n",
       "      <td>5.3</td>\n",
       "      <td>18+</td>\n",
       "    </tr>\n",
       "    <tr>\n",
       "      <th>4</th>\n",
       "      <td>5</td>\n",
       "      <td>Fleabag</td>\n",
       "      <td>2016</td>\n",
       "      <td>2</td>\n",
       "      <td>English</td>\n",
       "      <td>Comedy</td>\n",
       "      <td>8.7</td>\n",
       "      <td>18+</td>\n",
       "    </tr>\n",
       "    <tr>\n",
       "      <th>...</th>\n",
       "      <td>...</td>\n",
       "      <td>...</td>\n",
       "      <td>...</td>\n",
       "      <td>...</td>\n",
       "      <td>...</td>\n",
       "      <td>...</td>\n",
       "      <td>...</td>\n",
       "      <td>...</td>\n",
       "    </tr>\n",
       "    <tr>\n",
       "      <th>177</th>\n",
       "      <td>178</td>\n",
       "      <td>The Danny Thomas Show</td>\n",
       "      <td>1958</td>\n",
       "      <td>3</td>\n",
       "      <td>English</td>\n",
       "      <td>Comedy</td>\n",
       "      <td>7.2</td>\n",
       "      <td>All</td>\n",
       "    </tr>\n",
       "    <tr>\n",
       "      <th>178</th>\n",
       "      <td>179</td>\n",
       "      <td>Hitoshi Matsumoto Presents Documental</td>\n",
       "      <td>2018</td>\n",
       "      <td>3</td>\n",
       "      <td>Japanese</td>\n",
       "      <td>Comedy</td>\n",
       "      <td>8.0</td>\n",
       "      <td>18+</td>\n",
       "    </tr>\n",
       "    <tr>\n",
       "      <th>179</th>\n",
       "      <td>180</td>\n",
       "      <td>Businessmen VS Aliens</td>\n",
       "      <td>2018</td>\n",
       "      <td>1</td>\n",
       "      <td>Japanese</td>\n",
       "      <td>Comedy</td>\n",
       "      <td>4.5</td>\n",
       "      <td>13+</td>\n",
       "    </tr>\n",
       "    <tr>\n",
       "      <th>180</th>\n",
       "      <td>181</td>\n",
       "      <td>Scooter: Secret Agent</td>\n",
       "      <td>2003</td>\n",
       "      <td>1</td>\n",
       "      <td>English</td>\n",
       "      <td>Comedy</td>\n",
       "      <td>6.8</td>\n",
       "      <td>All</td>\n",
       "    </tr>\n",
       "    <tr>\n",
       "      <th>181</th>\n",
       "      <td>182</td>\n",
       "      <td>The Real McCoys</td>\n",
       "      <td>1958</td>\n",
       "      <td>6</td>\n",
       "      <td>English</td>\n",
       "      <td>Comedy</td>\n",
       "      <td>7.5</td>\n",
       "      <td>All</td>\n",
       "    </tr>\n",
       "  </tbody>\n",
       "</table>\n",
       "<p>182 rows × 8 columns</p>\n",
       "</div>"
      ],
      "text/plain": [
       "     S.no.                       Name of the show  Year of release  \\\n",
       "0        1                             Pataal Lok             2020   \n",
       "1        2                                 Upload             2020   \n",
       "2        3              The Marvelous Mrs. Maisel             2017   \n",
       "3        4                 Four More Shots Please             2019   \n",
       "4        5                                Fleabag             2016   \n",
       "..     ...                                    ...              ...   \n",
       "177    178                  The Danny Thomas Show             1958   \n",
       "178    179  Hitoshi Matsumoto Presents Documental             2018   \n",
       "179    180                  Businessmen VS Aliens             2018   \n",
       "180    181                  Scooter: Secret Agent             2003   \n",
       "181    182                        The Real McCoys             1958   \n",
       "\n",
       "     No of seasons available  Language          Genre  IMDb rating  \\\n",
       "0                          1     Hindi          Drama          7.5   \n",
       "1                          1   English  Sci-fi comedy          8.1   \n",
       "2                          3   English  Drama, Comedy          8.7   \n",
       "3                          2     Hindi  Drama, Comedy          5.3   \n",
       "4                          2   English         Comedy          8.7   \n",
       "..                       ...       ...            ...          ...   \n",
       "177                        3   English         Comedy          7.2   \n",
       "178                        3  Japanese         Comedy          8.0   \n",
       "179                        1  Japanese         Comedy          4.5   \n",
       "180                        1   English         Comedy          6.8   \n",
       "181                        6   English         Comedy          7.5   \n",
       "\n",
       "    Age of viewers  \n",
       "0              18+  \n",
       "1              16+  \n",
       "2              16+  \n",
       "3              18+  \n",
       "4              18+  \n",
       "..             ...  \n",
       "177            All  \n",
       "178            18+  \n",
       "179            13+  \n",
       "180            All  \n",
       "181            All  \n",
       "\n",
       "[182 rows x 8 columns]"
      ]
     },
     "execution_count": 184,
     "metadata": {},
     "output_type": "execute_result"
    }
   ],
   "source": [
    "ott = pd.read_csv('F:\\Skillenable\\Data frames\\Prime-TV-Shows-Data-set.csv')\n",
    "ott"
   ]
  },
  {
   "cell_type": "code",
   "execution_count": null,
   "id": "1450fbee",
   "metadata": {},
   "outputs": [],
   "source": []
  },
  {
   "cell_type": "markdown",
   "id": "6adaa600",
   "metadata": {},
   "source": [
    "### 1) Use a bar chart the plot the number of shows in each ‘Age of viewers’ category\n"
   ]
  },
  {
   "cell_type": "code",
   "execution_count": 110,
   "id": "7fdd57cc",
   "metadata": {},
   "outputs": [
    {
     "data": {
      "text/plain": [
       "Age of viewers\n",
       "13+    12\n",
       "16+    78\n",
       "18+    54\n",
       "7+     10\n",
       "All    28\n",
       "dtype: int64"
      ]
     },
     "execution_count": 110,
     "metadata": {},
     "output_type": "execute_result"
    }
   ],
   "source": [
    "numberOfshow = ott.groupby('Age of viewers')[['Age of viewers']].size()\n",
    "numberOfshow"
   ]
  },
  {
   "cell_type": "code",
   "execution_count": 112,
   "id": "418fcbfc",
   "metadata": {},
   "outputs": [
    {
     "data": {
      "text/plain": [
       "array([12, 78, 54, 10, 28], dtype=int64)"
      ]
     },
     "execution_count": 112,
     "metadata": {},
     "output_type": "execute_result"
    }
   ],
   "source": [
    "numberOfshow.index\n",
    "numberOfshow.values\n"
   ]
  },
  {
   "cell_type": "code",
   "execution_count": 113,
   "id": "d1a73bbd",
   "metadata": {},
   "outputs": [
    {
     "data": {
      "text/plain": [
       "Text(0, 0.5, 'Number of Shows')"
      ]
     },
     "execution_count": 113,
     "metadata": {},
     "output_type": "execute_result"
    },
    {
     "data": {
      "image/png": "[encoded data removed]",
      "text/plain": [
       "<Figure size 432x288 with 1 Axes>"
      ]
     },
     "metadata": {
      "needs_background": "light"
     },
     "output_type": "display_data"
    }
   ],
   "source": [
    "plt.bar(Age, Number_of_shows)\n",
    "plt.title('Shows VS Number of shows')\n",
    "plt.xlabel('Age of viewers (in years)')\n",
    "plt.ylabel('Number of Shows')"
   ]
  },
  {
   "cell_type": "markdown",
   "id": "1fefcc75",
   "metadata": {},
   "source": []
  },
  {
   "cell_type": "markdown",
   "id": "8ee499ea",
   "metadata": {},
   "source": [
    "### 2) Plot a histogram for the ‘IMDb Rating’.\n"
   ]
  },
  {
   "cell_type": "code",
   "execution_count": 32,
   "id": "b93c6f44",
   "metadata": {},
   "outputs": [
    {
     "data": {
      "text/plain": [
       "<AxesSubplot:xlabel='IMDb rating', ylabel='Count'>"
      ]
     },
     "execution_count": 32,
     "metadata": {},
     "output_type": "execute_result"
    },
    {
     "data": {
      "image/png": "[encoded data removed]",
      "text/plain": [
       "<Figure size 432x288 with 1 Axes>"
      ]
     },
     "metadata": {
      "needs_background": "light"
     },
     "output_type": "display_data"
    }
   ],
   "source": [
    "sns.histplot(ott['IMDb rating'])"
   ]
  },
  {
   "cell_type": "markdown",
   "id": "f29e6193",
   "metadata": {},
   "source": []
  },
  {
   "cell_type": "markdown",
   "id": "c54ec165",
   "metadata": {},
   "source": [
    "### 3) Plot a bar chart for the top 3 shows based on ‘IMDb Rating’.\n"
   ]
  },
  {
   "cell_type": "code",
   "execution_count": 134,
   "id": "3ba481f1",
   "metadata": {
    "scrolled": true
   },
   "outputs": [
    {
     "data": {
      "text/plain": [
       "Name of the show\n",
       "#IMomSoHard Live                                  1\n",
       "2 Broke Girls                                     1\n",
       "Absentia                                          1\n",
       "Alice Wettlund: My Mama is a Human and So Am I    1\n",
       "Alonzo Bodden: Heavy Lightweight                  1\n",
       "                                                 ..\n",
       "Trial and Error                                   1\n",
       "Two and a Half Men                                1\n",
       "Undone                                            1\n",
       "Upload                                            1\n",
       "Z: The Beginning of Everything                    1\n",
       "Length: 181, dtype: int64"
      ]
     },
     "execution_count": 134,
     "metadata": {},
     "output_type": "execute_result"
    }
   ],
   "source": [
    "top3_IMDb_show = ott['Name of the show','']\n",
    "top3_IMDb_show"
   ]
  },
  {
   "cell_type": "code",
   "execution_count": 150,
   "id": "806cec94",
   "metadata": {},
   "outputs": [
    {
     "data": {
      "text/html": [
       "<div>\n",
       "<style scoped>\n",
       "    .dataframe tbody tr th:only-of-type {\n",
       "        vertical-align: middle;\n",
       "    }\n",
       "\n",
       "    .dataframe tbody tr th {\n",
       "        vertical-align: top;\n",
       "    }\n",
       "\n",
       "    .dataframe thead th {\n",
       "        text-align: right;\n",
       "    }\n",
       "</style>\n",
       "<table border=\"1\" class=\"dataframe\">\n",
       "  <thead>\n",
       "    <tr style=\"text-align: right;\">\n",
       "      <th></th>\n",
       "      <th>Name of the show</th>\n",
       "      <th>IMDb rating</th>\n",
       "    </tr>\n",
       "  </thead>\n",
       "  <tbody>\n",
       "    <tr>\n",
       "      <th>18</th>\n",
       "      <td>The Test: A New Era for Australia's Team</td>\n",
       "      <td>9.0</td>\n",
       "    </tr>\n",
       "    <tr>\n",
       "      <th>124</th>\n",
       "      <td>Seinfeld</td>\n",
       "      <td>8.8</td>\n",
       "    </tr>\n",
       "    <tr>\n",
       "      <th>37</th>\n",
       "      <td>Downtown Abbey</td>\n",
       "      <td>8.7</td>\n",
       "    </tr>\n",
       "  </tbody>\n",
       "</table>\n",
       "</div>"
      ],
      "text/plain": [
       "                             Name of the show  IMDb rating\n",
       "18   The Test: A New Era for Australia's Team          9.0\n",
       "124                                  Seinfeld          8.8\n",
       "37                             Downtown Abbey          8.7"
      ]
     },
     "execution_count": 150,
     "metadata": {},
     "output_type": "execute_result"
    }
   ],
   "source": [
    "\n",
    "top3_IMDb_rating = ott[['Name of the show','IMDb rating']].sort_values(\"IMDb rating\", ascending = False)\n",
    "top3_IMDb_rating.head(3)\n"
   ]
  },
  {
   "cell_type": "code",
   "execution_count": 139,
   "id": "5fbaeb32",
   "metadata": {},
   "outputs": [
    {
     "data": {
      "text/plain": [
       "Int64Index([18, 124, 37], dtype='int64')"
      ]
     },
     "execution_count": 139,
     "metadata": {},
     "output_type": "execute_result"
    }
   ],
   "source": [
    "top3_IMDb_rating.head(3).index"
   ]
  },
  {
   "cell_type": "code",
   "execution_count": 140,
   "id": "c964eb61",
   "metadata": {},
   "outputs": [
    {
     "data": {
      "text/plain": [
       "array([[\"The Test: A New Era for Australia's Team\", 9.0],\n",
       "       ['Seinfeld', 8.8],\n",
       "       ['Downtown Abbey', 8.7]], dtype=object)"
      ]
     },
     "execution_count": 140,
     "metadata": {},
     "output_type": "execute_result"
    }
   ],
   "source": [
    "top3_IMDb_rating.head(3).values\n"
   ]
  },
  {
   "cell_type": "code",
   "execution_count": 146,
   "id": "55f7ec2e",
   "metadata": {},
   "outputs": [
    {
     "data": {
      "text/plain": [
       "Text(0.5, 1.0, 'Shows VS IMDb')"
      ]
     },
     "execution_count": 146,
     "metadata": {},
     "output_type": "execute_result"
    },
    {
     "data": {
      "image/png": "[encoded data removed]",
      "text/plain": [
       "<Figure size 432x288 with 1 Axes>"
      ]
     },
     "metadata": {
      "needs_background": "light"
     },
     "output_type": "display_data"
    }
   ],
   "source": [
    "plt.bar('Name of the show', 'IMDb rating')\n",
    "plt.title('Shows VS IMDb')\n"
   ]
  },
  {
   "cell_type": "markdown",
   "id": "47034bad",
   "metadata": {},
   "source": [
    "## 4) Plot a pie chart between the number of shows released and the years 2018,2019,2020."
   ]
  },
  {
   "cell_type": "code",
   "execution_count": 185,
   "id": "bfe283bc",
   "metadata": {},
   "outputs": [
    {
     "data": {
      "text/html": [
       "<div>\n",
       "<style scoped>\n",
       "    .dataframe tbody tr th:only-of-type {\n",
       "        vertical-align: middle;\n",
       "    }\n",
       "\n",
       "    .dataframe tbody tr th {\n",
       "        vertical-align: top;\n",
       "    }\n",
       "\n",
       "    .dataframe thead th {\n",
       "        text-align: right;\n",
       "    }\n",
       "</style>\n",
       "<table border=\"1\" class=\"dataframe\">\n",
       "  <thead>\n",
       "    <tr style=\"text-align: right;\">\n",
       "      <th></th>\n",
       "      <th>S.no.</th>\n",
       "      <th>Name of the show</th>\n",
       "      <th>Year of release</th>\n",
       "      <th>No of seasons available</th>\n",
       "      <th>Language</th>\n",
       "      <th>Genre</th>\n",
       "      <th>IMDb rating</th>\n",
       "      <th>Age of viewers</th>\n",
       "    </tr>\n",
       "  </thead>\n",
       "  <tbody>\n",
       "  </tbody>\n",
       "</table>\n",
       "</div>"
      ],
      "text/plain": [
       "Empty DataFrame\n",
       "Columns: [S.no., Name of the show, Year of release, No of seasons available, Language, Genre, IMDb rating, Age of viewers]\n",
       "Index: []"
      ]
     },
     "execution_count": 185,
     "metadata": {},
     "output_type": "execute_result"
    }
   ],
   "source": [
    "fc1 = ott['Year of release'] == \"2018\"\n",
    "fc2 = ott['Year of release'] == \"2019\"\n",
    "fc3 = ott['Year of release'] == \"2020\"\n",
    "\n",
    "show = ott[fc1 & fc2 & fc3]\n",
    "show"
   ]
  },
  {
   "cell_type": "code",
   "execution_count": null,
   "id": "326e68bb",
   "metadata": {},
   "outputs": [],
   "source": []
  },
  {
   "cell_type": "code",
   "execution_count": null,
   "id": "09793818",
   "metadata": {},
   "outputs": [],
   "source": []
  },
  {
   "cell_type": "code",
   "execution_count": null,
   "id": "4ea9935e",
   "metadata": {},
   "outputs": [],
   "source": []
  },
  {
   "cell_type": "code",
   "execution_count": null,
   "id": "db15be49",
   "metadata": {},
   "outputs": [],
   "source": []
  },
  {
   "cell_type": "code",
   "execution_count": null,
   "id": "820fc135",
   "metadata": {},
   "outputs": [],
   "source": []
  },
  {
   "cell_type": "code",
   "execution_count": null,
   "id": "65bd7659",
   "metadata": {},
   "outputs": [],
   "source": []
  },
  {
   "cell_type": "code",
   "execution_count": null,
   "id": "5c583635",
   "metadata": {},
   "outputs": [],
   "source": []
  }
 ],
 "metadata": {
  "kernelspec": {
   "display_name": "Python 3 (ipykernel)",
   "language": "python",
   "name": "python3"
  },
  "language_info": {
   "codemirror_mode": {
    "name": "ipython",
    "version": 3
   },
   "file_extension": ".py",
   "mimetype": "text/x-python",
   "name": "python",
   "nbconvert_exporter": "python",
   "pygments_lexer": "ipython3",
   "version": "3.9.7"
  }
 },
 "nbformat": 4,
 "nbformat_minor": 5
}
