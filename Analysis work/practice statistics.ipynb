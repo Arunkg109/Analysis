{
 "cells": [
  {
   "cell_type": "markdown",
   "id": "4ef16b10",
   "metadata": {},
   "source": [
    "Given below are the time (in minutes) taken by three pizza outlets in Bangalore to deliver pizzas within a radius of 1 KM\n",
    "Electronics City     MG Road       Whitefield\n",
    "\n",
    "      29               \t32\t           25\n",
    "      27                33\t           24\n",
    "      30              \t31\t           24\n",
    "      27             \t34\t           25\n",
    "      28           \t    30         \t26\n",
    "\n",
    "2. Compare the summary statistics of three outlets. What is your inference? \n",
    "3. Perform appropriate hypothesis test to determine whether there is a significant difference in\n",
    "the delivery time at the given pizza outlets. Use significance level as 0.01 and note that the sample sizes are equal.\n",
    "a. State your hypotheses \n",
    "b. Name the appropriate hypothesis test to be used\n",
    "C. What is your inference? \n",
    "\n",
    "\n",
    "4. Using the HR Dataset, help the HR department analyze the following and decide on further action on employee engagement and benefits program.\n",
    "a. 10 positions which are paid the least, create a bar plot \n",
    "b. Most satisfied and least satisfied department \n",
    "C. Which department has highest variation in employee satisfaction \n",
    "d. Are Engagement Survey Score and Employee Satisfaction Scores impacted by the\n",
    "employees' Pay Rate. \n",
    "\n",
    "\n",
    "What is your conclusion on the above?\n"
   ]
  },
  {
   "cell_type": "code",
   "execution_count": 3,
   "id": "56068acc",
   "metadata": {},
   "outputs": [
    {
     "data": {
      "text/html": [
       "<div>\n",
       "<style scoped>\n",
       "    .dataframe tbody tr th:only-of-type {\n",
       "        vertical-align: middle;\n",
       "    }\n",
       "\n",
       "    .dataframe tbody tr th {\n",
       "        vertical-align: top;\n",
       "    }\n",
       "\n",
       "    .dataframe thead th {\n",
       "        text-align: right;\n",
       "    }\n",
       "</style>\n",
       "<table border=\"1\" class=\"dataframe\">\n",
       "  <thead>\n",
       "    <tr style=\"text-align: right;\">\n",
       "      <th></th>\n",
       "      <th>Electronics City</th>\n",
       "      <th>MG Road</th>\n",
       "      <th>Whitefield</th>\n",
       "    </tr>\n",
       "  </thead>\n",
       "  <tbody>\n",
       "    <tr>\n",
       "      <th>0</th>\n",
       "      <td>NaN</td>\n",
       "      <td>NaN</td>\n",
       "      <td>NaN</td>\n",
       "    </tr>\n",
       "    <tr>\n",
       "      <th>1</th>\n",
       "      <td>29.0</td>\n",
       "      <td>32.0</td>\n",
       "      <td>25.0</td>\n",
       "    </tr>\n",
       "    <tr>\n",
       "      <th>2</th>\n",
       "      <td>27.0</td>\n",
       "      <td>33.0</td>\n",
       "      <td>24.0</td>\n",
       "    </tr>\n",
       "    <tr>\n",
       "      <th>3</th>\n",
       "      <td>30.0</td>\n",
       "      <td>31.0</td>\n",
       "      <td>24.0</td>\n",
       "    </tr>\n",
       "    <tr>\n",
       "      <th>4</th>\n",
       "      <td>27.0</td>\n",
       "      <td>34.0</td>\n",
       "      <td>25.0</td>\n",
       "    </tr>\n",
       "    <tr>\n",
       "      <th>5</th>\n",
       "      <td>28.0</td>\n",
       "      <td>30.0</td>\n",
       "      <td>26.0</td>\n",
       "    </tr>\n",
       "  </tbody>\n",
       "</table>\n",
       "</div>"
      ],
      "text/plain": [
       "   Electronics City  MG Road  Whitefield\n",
       "0               NaN      NaN         NaN\n",
       "1              29.0     32.0        25.0\n",
       "2              27.0     33.0        24.0\n",
       "3              30.0     31.0        24.0\n",
       "4              27.0     34.0        25.0\n",
       "5              28.0     30.0        26.0"
      ]
     },
     "execution_count": 3,
     "metadata": {},
     "output_type": "execute_result"
    }
   ],
   "source": [
    "import pandas as pd\n",
    "import numpy as np\n",
    "\n",
    "delivery = pd.read_excel('F:\\Skillenable\\Data frames\\pizza delivery.xlsx')"
   ]
  },
  {
   "cell_type": "code",
   "execution_count": null,
   "id": "9952b88d",
   "metadata": {},
   "outputs": [],
   "source": []
  },
  {
   "cell_type": "code",
   "execution_count": 2,
   "id": "246e1c60",
   "metadata": {},
   "outputs": [
    {
     "data": {
      "text/html": [
       "<div>\n",
       "<style scoped>\n",
       "    .dataframe tbody tr th:only-of-type {\n",
       "        vertical-align: middle;\n",
       "    }\n",
       "\n",
       "    .dataframe tbody tr th {\n",
       "        vertical-align: top;\n",
       "    }\n",
       "\n",
       "    .dataframe thead th {\n",
       "        text-align: right;\n",
       "    }\n",
       "</style>\n",
       "<table border=\"1\" class=\"dataframe\">\n",
       "  <thead>\n",
       "    <tr style=\"text-align: right;\">\n",
       "      <th></th>\n",
       "      <th>Electronics City</th>\n",
       "      <th>MG Road</th>\n",
       "      <th>Whitefield</th>\n",
       "    </tr>\n",
       "  </thead>\n",
       "  <tbody>\n",
       "    <tr>\n",
       "      <th>count</th>\n",
       "      <td>5.00000</td>\n",
       "      <td>5.000000</td>\n",
       "      <td>5.00000</td>\n",
       "    </tr>\n",
       "    <tr>\n",
       "      <th>mean</th>\n",
       "      <td>28.20000</td>\n",
       "      <td>32.000000</td>\n",
       "      <td>24.80000</td>\n",
       "    </tr>\n",
       "    <tr>\n",
       "      <th>std</th>\n",
       "      <td>1.30384</td>\n",
       "      <td>1.581139</td>\n",
       "      <td>0.83666</td>\n",
       "    </tr>\n",
       "    <tr>\n",
       "      <th>min</th>\n",
       "      <td>27.00000</td>\n",
       "      <td>30.000000</td>\n",
       "      <td>24.00000</td>\n",
       "    </tr>\n",
       "    <tr>\n",
       "      <th>25%</th>\n",
       "      <td>27.00000</td>\n",
       "      <td>31.000000</td>\n",
       "      <td>24.00000</td>\n",
       "    </tr>\n",
       "    <tr>\n",
       "      <th>50%</th>\n",
       "      <td>28.00000</td>\n",
       "      <td>32.000000</td>\n",
       "      <td>25.00000</td>\n",
       "    </tr>\n",
       "    <tr>\n",
       "      <th>75%</th>\n",
       "      <td>29.00000</td>\n",
       "      <td>33.000000</td>\n",
       "      <td>25.00000</td>\n",
       "    </tr>\n",
       "    <tr>\n",
       "      <th>max</th>\n",
       "      <td>30.00000</td>\n",
       "      <td>34.000000</td>\n",
       "      <td>26.00000</td>\n",
       "    </tr>\n",
       "  </tbody>\n",
       "</table>\n",
       "</div>"
      ],
      "text/plain": [
       "       Electronics City    MG Road  Whitefield\n",
       "count           5.00000   5.000000     5.00000\n",
       "mean           28.20000  32.000000    24.80000\n",
       "std             1.30384   1.581139     0.83666\n",
       "min            27.00000  30.000000    24.00000\n",
       "25%            27.00000  31.000000    24.00000\n",
       "50%            28.00000  32.000000    25.00000\n",
       "75%            29.00000  33.000000    25.00000\n",
       "max            30.00000  34.000000    26.00000"
      ]
     },
     "execution_count": 2,
     "metadata": {},
     "output_type": "execute_result"
    }
   ],
   "source": [
    "# 1. Compute Mean, Median, Standard deviation, Inter Quartile Range and Range for above data \n",
    "delivery.describe()"
   ]
  },
  {
   "cell_type": "code",
   "execution_count": 4,
   "id": "1f5a79c5",
   "metadata": {},
   "outputs": [
    {
     "data": {
      "text/plain": [
       "0     NaN\n",
       "1    29.0\n",
       "2    27.0\n",
       "3    30.0\n",
       "4    27.0\n",
       "5    28.0\n",
       "Name: Electronics City, dtype: float64"
      ]
     },
     "execution_count": 4,
     "metadata": {},
     "output_type": "execute_result"
    }
   ],
   "source": [
    "# 2. Compare the summary statistics of three outlets. What is your inference? \n",
    "\n",
    "from scipy import stats as st\n",
    "\n",
    "## let confidence value = 90%, significance level = 0.10\n",
    "## creating required data set 1\n",
    "\n",
    "Electronics_city = delivery['Electronics City']\n",
    "Electronics_city"
   ]
  },
  {
   "cell_type": "code",
   "execution_count": 5,
   "id": "b8928305",
   "metadata": {
    "scrolled": true
   },
   "outputs": [
    {
     "data": {
      "text/plain": [
       "0     NaN\n",
       "1    32.0\n",
       "2    33.0\n",
       "3    31.0\n",
       "4    34.0\n",
       "5    30.0\n",
       "Name: MG Road, dtype: float64"
      ]
     },
     "execution_count": 5,
     "metadata": {},
     "output_type": "execute_result"
    }
   ],
   "source": [
    "## creating required data set 2\n",
    "MG_road = delivery['MG Road']\n",
    "MG_road"
   ]
  },
  {
   "cell_type": "code",
   "execution_count": 6,
   "id": "a16b60ad",
   "metadata": {
    "scrolled": true
   },
   "outputs": [
    {
     "data": {
      "text/plain": [
       "0     NaN\n",
       "1    25.0\n",
       "2    24.0\n",
       "3    24.0\n",
       "4    25.0\n",
       "5    26.0\n",
       "Name: Whitefield, dtype: float64"
      ]
     },
     "execution_count": 6,
     "metadata": {},
     "output_type": "execute_result"
    }
   ],
   "source": [
    "## creating required data set 3\n",
    "\n",
    "Whitefield = delivery['Whitefield']\n",
    "Whitefield\n"
   ]
  },
  {
   "cell_type": "code",
   "execution_count": 8,
   "id": "39645b12",
   "metadata": {},
   "outputs": [
    {
     "data": {
      "text/plain": [
       "F_onewayResult(statistic=nan, pvalue=nan)"
      ]
     },
     "execution_count": 8,
     "metadata": {},
     "output_type": "execute_result"
    }
   ],
   "source": [
    "# perform ANOVA test; \n",
    "\n",
    "st.f_oneway(Electronics_city,MG_road,Whitefield)\n"
   ]
  },
  {
   "cell_type": "code",
   "execution_count": null,
   "id": "f6be8d66",
   "metadata": {},
   "outputs": [],
   "source": []
  },
  {
   "cell_type": "code",
   "execution_count": 9,
   "id": "3ce5db73",
   "metadata": {},
   "outputs": [
    {
     "data": {
      "text/plain": [
       "Ttest_indResult(statistic=nan, pvalue=nan)"
      ]
     },
     "execution_count": 9,
     "metadata": {},
     "output_type": "execute_result"
    }
   ],
   "source": [
    "# 3. Perform appropriate hypothesis test to determine whether there is a significant difference in the delivery time at the given pizza outlets. Use significance level as 0.01 and note that the sample sizes are equal.\n",
    "\n",
    "st.ttest_ind(Electronics_city, MG_road)\n"
   ]
  },
  {
   "cell_type": "code",
   "execution_count": null,
   "id": "ff1d33ab",
   "metadata": {},
   "outputs": [],
   "source": []
  }
 ],
 "metadata": {
  "kernelspec": {
   "display_name": "Python 3 (ipykernel)",
   "language": "python",
   "name": "python3"
  },
  "language_info": {
   "codemirror_mode": {
    "name": "ipython",
    "version": 3
   },
   "file_extension": ".py",
   "mimetype": "text/x-python",
   "name": "python",
   "nbconvert_exporter": "python",
   "pygments_lexer": "ipython3",
   "version": "3.9.7"
  }
 },
 "nbformat": 4,
 "nbformat_minor": 5
}
