{
 "cells": [
  {
   "cell_type": "code",
   "execution_count": 1,
   "id": "c7f727c5",
   "metadata": {},
   "outputs": [],
   "source": [
    "# loading req libraries"
   ]
  },
  {
   "cell_type": "code",
   "execution_count": 13,
   "id": "d1280f8f",
   "metadata": {},
   "outputs": [],
   "source": [
    "import pandas as pd\n",
    "from matplotlib import pyplot as plt\n",
    "import seaborn as sns"
   ]
  },
  {
   "cell_type": "code",
   "execution_count": 4,
   "id": "d58b5951",
   "metadata": {},
   "outputs": [
    {
     "data": {
      "text/html": [
       "<div>\n",
       "<style scoped>\n",
       "    .dataframe tbody tr th:only-of-type {\n",
       "        vertical-align: middle;\n",
       "    }\n",
       "\n",
       "    .dataframe tbody tr th {\n",
       "        vertical-align: top;\n",
       "    }\n",
       "\n",
       "    .dataframe thead th {\n",
       "        text-align: right;\n",
       "    }\n",
       "</style>\n",
       "<table border=\"1\" class=\"dataframe\">\n",
       "  <thead>\n",
       "    <tr style=\"text-align: right;\">\n",
       "      <th></th>\n",
       "      <th>id</th>\n",
       "      <th>Season</th>\n",
       "      <th>city</th>\n",
       "      <th>date</th>\n",
       "      <th>team1</th>\n",
       "      <th>team2</th>\n",
       "      <th>toss_winner</th>\n",
       "      <th>toss_decision</th>\n",
       "      <th>result</th>\n",
       "      <th>dl_applied</th>\n",
       "      <th>winner</th>\n",
       "      <th>win_by_runs</th>\n",
       "      <th>win_by_wickets</th>\n",
       "      <th>player_of_match</th>\n",
       "      <th>venue</th>\n",
       "      <th>umpire1</th>\n",
       "      <th>umpire2</th>\n",
       "      <th>umpire3</th>\n",
       "    </tr>\n",
       "  </thead>\n",
       "  <tbody>\n",
       "    <tr>\n",
       "      <th>0</th>\n",
       "      <td>1.0</td>\n",
       "      <td>IPL-2017</td>\n",
       "      <td>Hyderabad</td>\n",
       "      <td>2017-05-04 00:00:00</td>\n",
       "      <td>Sunrisers Hyderabad</td>\n",
       "      <td>Royal Challengers Bangalore</td>\n",
       "      <td>Royal Challengers Bangalore</td>\n",
       "      <td>field</td>\n",
       "      <td>normal</td>\n",
       "      <td>0.0</td>\n",
       "      <td>Sunrisers Hyderabad</td>\n",
       "      <td>35.0</td>\n",
       "      <td>0.0</td>\n",
       "      <td>Yuvraj Singh</td>\n",
       "      <td>Rajiv Gandhi International Stadium, Uppal</td>\n",
       "      <td>AY Dandekar</td>\n",
       "      <td>NJ Llong</td>\n",
       "      <td>NaN</td>\n",
       "    </tr>\n",
       "    <tr>\n",
       "      <th>1</th>\n",
       "      <td>2.0</td>\n",
       "      <td>IPL-2017</td>\n",
       "      <td>Pune</td>\n",
       "      <td>2017-06-04 00:00:00</td>\n",
       "      <td>Mumbai Indians</td>\n",
       "      <td>Rising Pune Supergiant</td>\n",
       "      <td>Rising Pune Supergiant</td>\n",
       "      <td>field</td>\n",
       "      <td>normal</td>\n",
       "      <td>0.0</td>\n",
       "      <td>Rising Pune Supergiant</td>\n",
       "      <td>0.0</td>\n",
       "      <td>7.0</td>\n",
       "      <td>SPD Smith</td>\n",
       "      <td>Maharashtra Cricket Association Stadium</td>\n",
       "      <td>A Nand Kishore</td>\n",
       "      <td>S Ravi</td>\n",
       "      <td>NaN</td>\n",
       "    </tr>\n",
       "    <tr>\n",
       "      <th>2</th>\n",
       "      <td>3.0</td>\n",
       "      <td>IPL-2017</td>\n",
       "      <td>Rajkot</td>\n",
       "      <td>2017-07-04 00:00:00</td>\n",
       "      <td>Gujarat Lions</td>\n",
       "      <td>Kolkata Knight Riders</td>\n",
       "      <td>Kolkata Knight Riders</td>\n",
       "      <td>field</td>\n",
       "      <td>normal</td>\n",
       "      <td>0.0</td>\n",
       "      <td>Kolkata Knight Riders</td>\n",
       "      <td>0.0</td>\n",
       "      <td>10.0</td>\n",
       "      <td>CA Lynn</td>\n",
       "      <td>Saurashtra Cricket Association Stadium</td>\n",
       "      <td>Nitin Menon</td>\n",
       "      <td>CK Nandan</td>\n",
       "      <td>NaN</td>\n",
       "    </tr>\n",
       "    <tr>\n",
       "      <th>3</th>\n",
       "      <td>4.0</td>\n",
       "      <td>IPL-2017</td>\n",
       "      <td>Indore</td>\n",
       "      <td>2017-08-04 00:00:00</td>\n",
       "      <td>Rising Pune Supergiant</td>\n",
       "      <td>Kings XI Punjab</td>\n",
       "      <td>Kings XI Punjab</td>\n",
       "      <td>field</td>\n",
       "      <td>normal</td>\n",
       "      <td>0.0</td>\n",
       "      <td>Kings XI Punjab</td>\n",
       "      <td>0.0</td>\n",
       "      <td>6.0</td>\n",
       "      <td>GJ Maxwell</td>\n",
       "      <td>Holkar Cricket Stadium</td>\n",
       "      <td>AK Chaudhary</td>\n",
       "      <td>C Shamshuddin</td>\n",
       "      <td>NaN</td>\n",
       "    </tr>\n",
       "    <tr>\n",
       "      <th>4</th>\n",
       "      <td>5.0</td>\n",
       "      <td>IPL-2017</td>\n",
       "      <td>Bangalore</td>\n",
       "      <td>2017-08-04 00:00:00</td>\n",
       "      <td>Royal Challengers Bangalore</td>\n",
       "      <td>Delhi Daredevils</td>\n",
       "      <td>Royal Challengers Bangalore</td>\n",
       "      <td>bat</td>\n",
       "      <td>normal</td>\n",
       "      <td>0.0</td>\n",
       "      <td>Royal Challengers Bangalore</td>\n",
       "      <td>15.0</td>\n",
       "      <td>0.0</td>\n",
       "      <td>KM Jadhav</td>\n",
       "      <td>M Chinnaswamy Stadium</td>\n",
       "      <td>NaN</td>\n",
       "      <td>NaN</td>\n",
       "      <td>NaN</td>\n",
       "    </tr>\n",
       "  </tbody>\n",
       "</table>\n",
       "</div>"
      ],
      "text/plain": [
       "    id    Season       city                 date                        team1  \\\n",
       "0  1.0  IPL-2017  Hyderabad  2017-05-04 00:00:00          Sunrisers Hyderabad   \n",
       "1  2.0  IPL-2017       Pune  2017-06-04 00:00:00               Mumbai Indians   \n",
       "2  3.0  IPL-2017     Rajkot  2017-07-04 00:00:00                Gujarat Lions   \n",
       "3  4.0  IPL-2017     Indore  2017-08-04 00:00:00       Rising Pune Supergiant   \n",
       "4  5.0  IPL-2017  Bangalore  2017-08-04 00:00:00  Royal Challengers Bangalore   \n",
       "\n",
       "                         team2                  toss_winner toss_decision  \\\n",
       "0  Royal Challengers Bangalore  Royal Challengers Bangalore         field   \n",
       "1       Rising Pune Supergiant       Rising Pune Supergiant         field   \n",
       "2        Kolkata Knight Riders        Kolkata Knight Riders         field   \n",
       "3              Kings XI Punjab              Kings XI Punjab         field   \n",
       "4             Delhi Daredevils  Royal Challengers Bangalore           bat   \n",
       "\n",
       "   result  dl_applied                       winner  win_by_runs  \\\n",
       "0  normal         0.0          Sunrisers Hyderabad         35.0   \n",
       "1  normal         0.0       Rising Pune Supergiant          0.0   \n",
       "2  normal         0.0        Kolkata Knight Riders          0.0   \n",
       "3  normal         0.0              Kings XI Punjab          0.0   \n",
       "4  normal         0.0  Royal Challengers Bangalore         15.0   \n",
       "\n",
       "   win_by_wickets player_of_match                                      venue  \\\n",
       "0             0.0    Yuvraj Singh  Rajiv Gandhi International Stadium, Uppal   \n",
       "1             7.0       SPD Smith    Maharashtra Cricket Association Stadium   \n",
       "2            10.0         CA Lynn     Saurashtra Cricket Association Stadium   \n",
       "3             6.0      GJ Maxwell                     Holkar Cricket Stadium   \n",
       "4             0.0       KM Jadhav                      M Chinnaswamy Stadium   \n",
       "\n",
       "          umpire1        umpire2 umpire3  \n",
       "0     AY Dandekar       NJ Llong     NaN  \n",
       "1  A Nand Kishore         S Ravi     NaN  \n",
       "2     Nitin Menon      CK Nandan     NaN  \n",
       "3    AK Chaudhary  C Shamshuddin     NaN  \n",
       "4             NaN            NaN     NaN  "
      ]
     },
     "execution_count": 4,
     "metadata": {},
     "output_type": "execute_result"
    }
   ],
   "source": [
    "#dataset\n",
    "ipl = pd.read_excel('F:\\matches.xlsx')\n",
    "ipl.head() "
   ]
  },
  {
   "cell_type": "code",
   "execution_count": 6,
   "id": "90313196",
   "metadata": {},
   "outputs": [
    {
     "data": {
      "text/plain": [
       "(756, 18)"
      ]
     },
     "execution_count": 6,
     "metadata": {},
     "output_type": "execute_result"
    }
   ],
   "source": [
    "ipl.shape\n"
   ]
  },
  {
   "cell_type": "code",
   "execution_count": 8,
   "id": "f86b651d",
   "metadata": {},
   "outputs": [
    {
     "data": {
      "text/plain": [
       "CH Gayle          21\n",
       "AB de Villiers    20\n",
       "RG Sharma         17\n",
       "MS Dhoni          17\n",
       "DA Warner         17\n",
       "                  ..\n",
       "PD Collingwood     1\n",
       "NV Ojha            1\n",
       "AC Voges           1\n",
       "J Theron           1\n",
       "S Hetmyer          1\n",
       "Name: player_of_match, Length: 226, dtype: int64"
      ]
     },
     "execution_count": 8,
     "metadata": {},
     "output_type": "execute_result"
    }
   ],
   "source": [
    "# freq. of most MoM award\n",
    "ipl['player_of_match'].value_counts()"
   ]
  },
  {
   "cell_type": "code",
   "execution_count": 9,
   "id": "b8a28fb7",
   "metadata": {},
   "outputs": [
    {
     "data": {
      "text/plain": [
       "CH Gayle          21\n",
       "AB de Villiers    20\n",
       "RG Sharma         17\n",
       "MS Dhoni          17\n",
       "DA Warner         17\n",
       "YK Pathan         16\n",
       "SR Watson         15\n",
       "SK Raina          14\n",
       "G Gambhir         13\n",
       "MEK Hussey        12\n",
       "Name: player_of_match, dtype: int64"
      ]
     },
     "execution_count": 9,
     "metadata": {},
     "output_type": "execute_result"
    }
   ],
   "source": [
    "#top 10 MoM\n",
    "ipl['player_of_match'].value_counts()[0:10]"
   ]
  },
  {
   "cell_type": "code",
   "execution_count": 10,
   "id": "d2d1d230",
   "metadata": {},
   "outputs": [
    {
     "data": {
      "text/plain": [
       "CH Gayle          21\n",
       "AB de Villiers    20\n",
       "RG Sharma         17\n",
       "MS Dhoni          17\n",
       "DA Warner         17\n",
       "Name: player_of_match, dtype: int64"
      ]
     },
     "execution_count": 10,
     "metadata": {},
     "output_type": "execute_result"
    }
   ],
   "source": [
    "#top 5\n",
    "ipl['player_of_match'].value_counts()[0:5]"
   ]
  },
  {
   "cell_type": "code",
   "execution_count": 11,
   "id": "c9b4f8fe",
   "metadata": {},
   "outputs": [
    {
     "data": {
      "text/plain": [
       "['CH Gayle', 'AB de Villiers', 'RG Sharma', 'MS Dhoni', 'DA Warner']"
      ]
     },
     "execution_count": 11,
     "metadata": {},
     "output_type": "execute_result"
    }
   ],
   "source": [
    "list(ipl['player_of_match'].value_counts()[0:5].keys())"
   ]
  },
  {
   "cell_type": "code",
   "execution_count": 17,
   "id": "c90edf21",
   "metadata": {},
   "outputs": [
    {
     "data": {
      "image/png": "[encoded data removed]",
      "text/plain": [
       "<Figure size 576x360 with 1 Axes>"
      ]
     },
     "metadata": {
      "needs_background": "light"
     },
     "output_type": "display_data"
    }
   ],
   "source": [
    "plt.figure(figsize=(8,5))\n",
    "plt.bar(list(ipl['player_of_match'].value_counts()[0:5].keys()),list(ipl['player_of_match'].value_counts()[0:5]), color=\"g\")\n",
    "plt.show()\n",
    "    "
   ]
  },
  {
   "cell_type": "code",
   "execution_count": 16,
   "id": "e9d3b456",
   "metadata": {
    "scrolled": true
   },
   "outputs": [
    {
     "data": {
      "image/png": "[encoded data removed]",
      "text/plain": [
       "<Figure size 576x360 with 1 Axes>"
      ]
     },
     "metadata": {
      "needs_background": "light"
     },
     "output_type": "display_data"
    }
   ],
   "source": [
    "plt.figure(figsize=(8,5))\n",
    "plt.bar(list(ipl['player_of_match'].value_counts()[0:5].keys()),list(ipl['player_of_match'].value_counts()[0:5]), color=\"g\")\n",
    "plt.show()"
   ]
  },
  {
   "cell_type": "code",
   "execution_count": 19,
   "id": "ed6fe833",
   "metadata": {},
   "outputs": [
    {
     "data": {
      "text/plain": [
       "normal       743\n",
       "tie            9\n",
       "no result      4\n",
       "Name: result, dtype: int64"
      ]
     },
     "execution_count": 19,
     "metadata": {},
     "output_type": "execute_result"
    }
   ],
   "source": [
    "# freq of result\n",
    "ipl['result'].value_counts()"
   ]
  },
  {
   "cell_type": "code",
   "execution_count": null,
   "id": "1e5536ea",
   "metadata": {},
   "outputs": [],
   "source": []
  },
  {
   "cell_type": "code",
   "execution_count": 21,
   "id": "c2736960",
   "metadata": {},
   "outputs": [
    {
     "data": {
      "text/plain": [
       "Mumbai Indians                 98\n",
       "Kolkata Knight Riders          92\n",
       "Chennai Super Kings            89\n",
       "Royal Challengers Bangalore    81\n",
       "Kings XI Punjab                81\n",
       "Delhi Daredevils               80\n",
       "Rajasthan Royals               80\n",
       "Sunrisers Hyderabad            46\n",
       "Deccan Chargers                43\n",
       "Pune Warriors                  20\n",
       "Gujarat Lions                  15\n",
       "Delhi Capitals                 10\n",
       "Kochi Tuskers Kerala            8\n",
       "Rising Pune Supergiants         7\n",
       "Rising Pune Supergiant          6\n",
       "Name: toss_winner, dtype: int64"
      ]
     },
     "execution_count": 21,
     "metadata": {},
     "output_type": "execute_result"
    }
   ],
   "source": [
    "# wins w.r.t each team\n",
    "ipl['toss_winner'].value_counts()"
   ]
  },
  {
   "cell_type": "code",
   "execution_count": 24,
   "id": "8f642b0e",
   "metadata": {},
   "outputs": [
    {
     "data": {
      "text/html": [
       "<div>\n",
       "<style scoped>\n",
       "    .dataframe tbody tr th:only-of-type {\n",
       "        vertical-align: middle;\n",
       "    }\n",
       "\n",
       "    .dataframe tbody tr th {\n",
       "        vertical-align: top;\n",
       "    }\n",
       "\n",
       "    .dataframe thead th {\n",
       "        text-align: right;\n",
       "    }\n",
       "</style>\n",
       "<table border=\"1\" class=\"dataframe\">\n",
       "  <thead>\n",
       "    <tr style=\"text-align: right;\">\n",
       "      <th></th>\n",
       "      <th>id</th>\n",
       "      <th>Season</th>\n",
       "      <th>city</th>\n",
       "      <th>date</th>\n",
       "      <th>team1</th>\n",
       "      <th>team2</th>\n",
       "      <th>toss_winner</th>\n",
       "      <th>toss_decision</th>\n",
       "      <th>result</th>\n",
       "      <th>dl_applied</th>\n",
       "      <th>winner</th>\n",
       "      <th>win_by_runs</th>\n",
       "      <th>win_by_wickets</th>\n",
       "      <th>player_of_match</th>\n",
       "      <th>venue</th>\n",
       "      <th>umpire1</th>\n",
       "      <th>umpire2</th>\n",
       "      <th>umpire3</th>\n",
       "    </tr>\n",
       "  </thead>\n",
       "  <tbody>\n",
       "    <tr>\n",
       "      <th>0</th>\n",
       "      <td>1.0</td>\n",
       "      <td>IPL-2017</td>\n",
       "      <td>Hyderabad</td>\n",
       "      <td>2017-05-04 00:00:00</td>\n",
       "      <td>Sunrisers Hyderabad</td>\n",
       "      <td>Royal Challengers Bangalore</td>\n",
       "      <td>Royal Challengers Bangalore</td>\n",
       "      <td>field</td>\n",
       "      <td>normal</td>\n",
       "      <td>0.0</td>\n",
       "      <td>Sunrisers Hyderabad</td>\n",
       "      <td>35.0</td>\n",
       "      <td>0.0</td>\n",
       "      <td>Yuvraj Singh</td>\n",
       "      <td>Rajiv Gandhi International Stadium, Uppal</td>\n",
       "      <td>AY Dandekar</td>\n",
       "      <td>NJ Llong</td>\n",
       "      <td>NaN</td>\n",
       "    </tr>\n",
       "    <tr>\n",
       "      <th>4</th>\n",
       "      <td>5.0</td>\n",
       "      <td>IPL-2017</td>\n",
       "      <td>Bangalore</td>\n",
       "      <td>2017-08-04 00:00:00</td>\n",
       "      <td>Royal Challengers Bangalore</td>\n",
       "      <td>Delhi Daredevils</td>\n",
       "      <td>Royal Challengers Bangalore</td>\n",
       "      <td>bat</td>\n",
       "      <td>normal</td>\n",
       "      <td>0.0</td>\n",
       "      <td>Royal Challengers Bangalore</td>\n",
       "      <td>15.0</td>\n",
       "      <td>0.0</td>\n",
       "      <td>KM Jadhav</td>\n",
       "      <td>M Chinnaswamy Stadium</td>\n",
       "      <td>NaN</td>\n",
       "      <td>NaN</td>\n",
       "      <td>NaN</td>\n",
       "    </tr>\n",
       "    <tr>\n",
       "      <th>8</th>\n",
       "      <td>9.0</td>\n",
       "      <td>IPL-2017</td>\n",
       "      <td>Pune</td>\n",
       "      <td>2017-11-04 00:00:00</td>\n",
       "      <td>Delhi Daredevils</td>\n",
       "      <td>Rising Pune Supergiant</td>\n",
       "      <td>Rising Pune Supergiant</td>\n",
       "      <td>field</td>\n",
       "      <td>normal</td>\n",
       "      <td>0.0</td>\n",
       "      <td>Delhi Daredevils</td>\n",
       "      <td>97.0</td>\n",
       "      <td>0.0</td>\n",
       "      <td>SV Samson</td>\n",
       "      <td>Maharashtra Cricket Association Stadium</td>\n",
       "      <td>AY Dandekar</td>\n",
       "      <td>S Ravi</td>\n",
       "      <td>NaN</td>\n",
       "    </tr>\n",
       "    <tr>\n",
       "      <th>13</th>\n",
       "      <td>14.0</td>\n",
       "      <td>IPL-2017</td>\n",
       "      <td>Kolkata</td>\n",
       "      <td>15-04-2017</td>\n",
       "      <td>Kolkata Knight Riders</td>\n",
       "      <td>Sunrisers Hyderabad</td>\n",
       "      <td>Sunrisers Hyderabad</td>\n",
       "      <td>field</td>\n",
       "      <td>normal</td>\n",
       "      <td>0.0</td>\n",
       "      <td>Kolkata Knight Riders</td>\n",
       "      <td>17.0</td>\n",
       "      <td>0.0</td>\n",
       "      <td>RV Uthappa</td>\n",
       "      <td>Eden Gardens</td>\n",
       "      <td>AY Dandekar</td>\n",
       "      <td>NJ Llong</td>\n",
       "      <td>NaN</td>\n",
       "    </tr>\n",
       "    <tr>\n",
       "      <th>14</th>\n",
       "      <td>15.0</td>\n",
       "      <td>IPL-2017</td>\n",
       "      <td>Delhi</td>\n",
       "      <td>15-04-2017</td>\n",
       "      <td>Delhi Daredevils</td>\n",
       "      <td>Kings XI Punjab</td>\n",
       "      <td>Delhi Daredevils</td>\n",
       "      <td>bat</td>\n",
       "      <td>normal</td>\n",
       "      <td>0.0</td>\n",
       "      <td>Delhi Daredevils</td>\n",
       "      <td>51.0</td>\n",
       "      <td>0.0</td>\n",
       "      <td>CJ Anderson</td>\n",
       "      <td>Feroz Shah Kotla</td>\n",
       "      <td>YC Barde</td>\n",
       "      <td>Nitin Menon</td>\n",
       "      <td>NaN</td>\n",
       "    </tr>\n",
       "  </tbody>\n",
       "</table>\n",
       "</div>"
      ],
      "text/plain": [
       "      id    Season       city                 date  \\\n",
       "0    1.0  IPL-2017  Hyderabad  2017-05-04 00:00:00   \n",
       "4    5.0  IPL-2017  Bangalore  2017-08-04 00:00:00   \n",
       "8    9.0  IPL-2017       Pune  2017-11-04 00:00:00   \n",
       "13  14.0  IPL-2017    Kolkata           15-04-2017   \n",
       "14  15.0  IPL-2017      Delhi           15-04-2017   \n",
       "\n",
       "                          team1                        team2  \\\n",
       "0           Sunrisers Hyderabad  Royal Challengers Bangalore   \n",
       "4   Royal Challengers Bangalore             Delhi Daredevils   \n",
       "8              Delhi Daredevils       Rising Pune Supergiant   \n",
       "13        Kolkata Knight Riders          Sunrisers Hyderabad   \n",
       "14             Delhi Daredevils              Kings XI Punjab   \n",
       "\n",
       "                    toss_winner toss_decision  result  dl_applied  \\\n",
       "0   Royal Challengers Bangalore         field  normal         0.0   \n",
       "4   Royal Challengers Bangalore           bat  normal         0.0   \n",
       "8        Rising Pune Supergiant         field  normal         0.0   \n",
       "13          Sunrisers Hyderabad         field  normal         0.0   \n",
       "14             Delhi Daredevils           bat  normal         0.0   \n",
       "\n",
       "                         winner  win_by_runs  win_by_wickets player_of_match  \\\n",
       "0           Sunrisers Hyderabad         35.0             0.0    Yuvraj Singh   \n",
       "4   Royal Challengers Bangalore         15.0             0.0       KM Jadhav   \n",
       "8              Delhi Daredevils         97.0             0.0       SV Samson   \n",
       "13        Kolkata Knight Riders         17.0             0.0      RV Uthappa   \n",
       "14             Delhi Daredevils         51.0             0.0     CJ Anderson   \n",
       "\n",
       "                                        venue      umpire1      umpire2  \\\n",
       "0   Rajiv Gandhi International Stadium, Uppal  AY Dandekar     NJ Llong   \n",
       "4                       M Chinnaswamy Stadium          NaN          NaN   \n",
       "8     Maharashtra Cricket Association Stadium  AY Dandekar       S Ravi   \n",
       "13                               Eden Gardens  AY Dandekar     NJ Llong   \n",
       "14                           Feroz Shah Kotla     YC Barde  Nitin Menon   \n",
       "\n",
       "   umpire3  \n",
       "0      NaN  \n",
       "4      NaN  \n",
       "8      NaN  \n",
       "13     NaN  \n",
       "14     NaN  "
      ]
     },
     "execution_count": 24,
     "metadata": {},
     "output_type": "execute_result"
    }
   ],
   "source": [
    "# team won batting first\n",
    "batting_first= ipl[ipl['win_by_runs'] != 0]\n",
    "batting_first.head()"
   ]
  },
  {
   "cell_type": "code",
   "execution_count": 25,
   "id": "860c999d",
   "metadata": {},
   "outputs": [
    {
     "data": {
      "image/png": "[encoded data removed]",
      "text/plain": [
       "<Figure size 360x504 with 1 Axes>"
      ]
     },
     "metadata": {
      "needs_background": "light"
     },
     "output_type": "display_data"
    }
   ],
   "source": [
    "# making histogram\n",
    "\n",
    "plt.figure(figsize=(5,7))\n",
    "plt.hist(batting_first['win_by_runs'])\n",
    "plt.title(\"Distibution of runs\")\n",
    "plt.xlabel(\"Runs\")\n",
    "plt.show()"
   ]
  },
  {
   "cell_type": "code",
   "execution_count": 27,
   "id": "6c0e773a",
   "metadata": {},
   "outputs": [
    {
     "data": {
      "text/plain": [
       "Mumbai Indians                 57\n",
       "Chennai Super Kings            52\n",
       "Kings XI Punjab                38\n",
       "Kolkata Knight Riders          36\n",
       "Royal Challengers Bangalore    35\n",
       "Sunrisers Hyderabad            30\n",
       "Rajasthan Royals               27\n",
       "Delhi Daredevils               25\n",
       "Deccan Chargers                18\n",
       "Pune Warriors                   6\n",
       "Rising Pune Supergiant          5\n",
       "Delhi Capitals                  3\n",
       "Kochi Tuskers Kerala            2\n",
       "Rising Pune Supergiants         2\n",
       "Gujarat Lions                   1\n",
       "Name: winner, dtype: int64"
      ]
     },
     "execution_count": 27,
     "metadata": {},
     "output_type": "execute_result"
    }
   ],
   "source": [
    "# finding out the nu of wins w.r.t each team after batting first\n",
    "batting_first['winner'].value_counts()"
   ]
  },
  {
   "cell_type": "code",
   "execution_count": 31,
   "id": "157261b3",
   "metadata": {},
   "outputs": [
    {
     "data": {
      "text/plain": [
       "<BarContainer object of 3 artists>"
      ]
     },
     "execution_count": 31,
     "metadata": {},
     "output_type": "execute_result"
    },
    {
     "data": {
      "image/png": "[encoded data removed]",
      "text/plain": [
       "<Figure size 432x432 with 1 Axes>"
      ]
     },
     "metadata": {
      "needs_background": "light"
     },
     "output_type": "display_data"
    }
   ],
   "source": [
    "# plot bar= top 3 teans with most wins after batting first\n",
    "\n",
    "plt.figure(figsize=(6,6))\n",
    "plt.bar(list(batting_first['winner'].value_counts()[0:3].keys()), list(batting_first['winner'].value_counts()[0:3]), color=[\"blue\",\"yellow\",\"red\"])"
   ]
  },
  {
   "cell_type": "code",
   "execution_count": 33,
   "id": "6a631ded",
   "metadata": {},
   "outputs": [
    {
     "data": {
      "image/png": "[encoded data removed]",
      "text/plain": [
       "<Figure size 504x504 with 1 Axes>"
      ]
     },
     "metadata": {},
     "output_type": "display_data"
    }
   ],
   "source": [
    "#making pie chart\n",
    "\n",
    "plt.figure(figsize=(7,7))\n",
    "plt.pie(list(batting_first['winner'].value_counts()),labels = list(batting_first['winner'].value_counts().keys()),autopct='%0.1f%%')\n",
    "plt.show()"
   ]
  },
  {
   "cell_type": "code",
   "execution_count": 34,
   "id": "a166950a",
   "metadata": {},
   "outputs": [],
   "source": [
    "# team win after second phone\n",
    "batting_second = ipl[ipl['win_by_wickets'] != 0]"
   ]
  },
  {
   "cell_type": "code",
   "execution_count": 36,
   "id": "5cf7dff2",
   "metadata": {},
   "outputs": [
    {
     "data": {
      "text/html": [
       "<div>\n",
       "<style scoped>\n",
       "    .dataframe tbody tr th:only-of-type {\n",
       "        vertical-align: middle;\n",
       "    }\n",
       "\n",
       "    .dataframe tbody tr th {\n",
       "        vertical-align: top;\n",
       "    }\n",
       "\n",
       "    .dataframe thead th {\n",
       "        text-align: right;\n",
       "    }\n",
       "</style>\n",
       "<table border=\"1\" class=\"dataframe\">\n",
       "  <thead>\n",
       "    <tr style=\"text-align: right;\">\n",
       "      <th></th>\n",
       "      <th>id</th>\n",
       "      <th>Season</th>\n",
       "      <th>city</th>\n",
       "      <th>date</th>\n",
       "      <th>team1</th>\n",
       "      <th>team2</th>\n",
       "      <th>toss_winner</th>\n",
       "      <th>toss_decision</th>\n",
       "      <th>result</th>\n",
       "      <th>dl_applied</th>\n",
       "      <th>winner</th>\n",
       "      <th>win_by_runs</th>\n",
       "      <th>win_by_wickets</th>\n",
       "      <th>player_of_match</th>\n",
       "      <th>venue</th>\n",
       "      <th>umpire1</th>\n",
       "      <th>umpire2</th>\n",
       "      <th>umpire3</th>\n",
       "    </tr>\n",
       "  </thead>\n",
       "  <tbody>\n",
       "    <tr>\n",
       "      <th>1</th>\n",
       "      <td>2.0</td>\n",
       "      <td>IPL-2017</td>\n",
       "      <td>Pune</td>\n",
       "      <td>2017-06-04 00:00:00</td>\n",
       "      <td>Mumbai Indians</td>\n",
       "      <td>Rising Pune Supergiant</td>\n",
       "      <td>Rising Pune Supergiant</td>\n",
       "      <td>field</td>\n",
       "      <td>normal</td>\n",
       "      <td>0.0</td>\n",
       "      <td>Rising Pune Supergiant</td>\n",
       "      <td>0.0</td>\n",
       "      <td>7.0</td>\n",
       "      <td>SPD Smith</td>\n",
       "      <td>Maharashtra Cricket Association Stadium</td>\n",
       "      <td>A Nand Kishore</td>\n",
       "      <td>S Ravi</td>\n",
       "      <td>NaN</td>\n",
       "    </tr>\n",
       "    <tr>\n",
       "      <th>2</th>\n",
       "      <td>3.0</td>\n",
       "      <td>IPL-2017</td>\n",
       "      <td>Rajkot</td>\n",
       "      <td>2017-07-04 00:00:00</td>\n",
       "      <td>Gujarat Lions</td>\n",
       "      <td>Kolkata Knight Riders</td>\n",
       "      <td>Kolkata Knight Riders</td>\n",
       "      <td>field</td>\n",
       "      <td>normal</td>\n",
       "      <td>0.0</td>\n",
       "      <td>Kolkata Knight Riders</td>\n",
       "      <td>0.0</td>\n",
       "      <td>10.0</td>\n",
       "      <td>CA Lynn</td>\n",
       "      <td>Saurashtra Cricket Association Stadium</td>\n",
       "      <td>Nitin Menon</td>\n",
       "      <td>CK Nandan</td>\n",
       "      <td>NaN</td>\n",
       "    </tr>\n",
       "    <tr>\n",
       "      <th>3</th>\n",
       "      <td>4.0</td>\n",
       "      <td>IPL-2017</td>\n",
       "      <td>Indore</td>\n",
       "      <td>2017-08-04 00:00:00</td>\n",
       "      <td>Rising Pune Supergiant</td>\n",
       "      <td>Kings XI Punjab</td>\n",
       "      <td>Kings XI Punjab</td>\n",
       "      <td>field</td>\n",
       "      <td>normal</td>\n",
       "      <td>0.0</td>\n",
       "      <td>Kings XI Punjab</td>\n",
       "      <td>0.0</td>\n",
       "      <td>6.0</td>\n",
       "      <td>GJ Maxwell</td>\n",
       "      <td>Holkar Cricket Stadium</td>\n",
       "      <td>AK Chaudhary</td>\n",
       "      <td>C Shamshuddin</td>\n",
       "      <td>NaN</td>\n",
       "    </tr>\n",
       "    <tr>\n",
       "      <th>5</th>\n",
       "      <td>6.0</td>\n",
       "      <td>IPL-2017</td>\n",
       "      <td>Hyderabad</td>\n",
       "      <td>2017-09-04 00:00:00</td>\n",
       "      <td>Gujarat Lions</td>\n",
       "      <td>Sunrisers Hyderabad</td>\n",
       "      <td>Sunrisers Hyderabad</td>\n",
       "      <td>field</td>\n",
       "      <td>normal</td>\n",
       "      <td>0.0</td>\n",
       "      <td>Sunrisers Hyderabad</td>\n",
       "      <td>0.0</td>\n",
       "      <td>9.0</td>\n",
       "      <td>Rashid Khan</td>\n",
       "      <td>Rajiv Gandhi International Stadium, Uppal</td>\n",
       "      <td>A Deshmukh</td>\n",
       "      <td>NJ Llong</td>\n",
       "      <td>NaN</td>\n",
       "    </tr>\n",
       "    <tr>\n",
       "      <th>6</th>\n",
       "      <td>7.0</td>\n",
       "      <td>IPL-2017</td>\n",
       "      <td>Mumbai</td>\n",
       "      <td>2017-09-04 00:00:00</td>\n",
       "      <td>Kolkata Knight Riders</td>\n",
       "      <td>Mumbai Indians</td>\n",
       "      <td>Mumbai Indians</td>\n",
       "      <td>field</td>\n",
       "      <td>normal</td>\n",
       "      <td>0.0</td>\n",
       "      <td>Mumbai Indians</td>\n",
       "      <td>0.0</td>\n",
       "      <td>4.0</td>\n",
       "      <td>N Rana</td>\n",
       "      <td>Wankhede Stadium</td>\n",
       "      <td>Nitin Menon</td>\n",
       "      <td>CK Nandan</td>\n",
       "      <td>NaN</td>\n",
       "    </tr>\n",
       "  </tbody>\n",
       "</table>\n",
       "</div>"
      ],
      "text/plain": [
       "    id    Season       city                 date                   team1  \\\n",
       "1  2.0  IPL-2017       Pune  2017-06-04 00:00:00          Mumbai Indians   \n",
       "2  3.0  IPL-2017     Rajkot  2017-07-04 00:00:00           Gujarat Lions   \n",
       "3  4.0  IPL-2017     Indore  2017-08-04 00:00:00  Rising Pune Supergiant   \n",
       "5  6.0  IPL-2017  Hyderabad  2017-09-04 00:00:00           Gujarat Lions   \n",
       "6  7.0  IPL-2017     Mumbai  2017-09-04 00:00:00   Kolkata Knight Riders   \n",
       "\n",
       "                    team2             toss_winner toss_decision  result  \\\n",
       "1  Rising Pune Supergiant  Rising Pune Supergiant         field  normal   \n",
       "2   Kolkata Knight Riders   Kolkata Knight Riders         field  normal   \n",
       "3         Kings XI Punjab         Kings XI Punjab         field  normal   \n",
       "5     Sunrisers Hyderabad     Sunrisers Hyderabad         field  normal   \n",
       "6          Mumbai Indians          Mumbai Indians         field  normal   \n",
       "\n",
       "   dl_applied                  winner  win_by_runs  win_by_wickets  \\\n",
       "1         0.0  Rising Pune Supergiant          0.0             7.0   \n",
       "2         0.0   Kolkata Knight Riders          0.0            10.0   \n",
       "3         0.0         Kings XI Punjab          0.0             6.0   \n",
       "5         0.0     Sunrisers Hyderabad          0.0             9.0   \n",
       "6         0.0          Mumbai Indians          0.0             4.0   \n",
       "\n",
       "  player_of_match                                      venue         umpire1  \\\n",
       "1       SPD Smith    Maharashtra Cricket Association Stadium  A Nand Kishore   \n",
       "2         CA Lynn     Saurashtra Cricket Association Stadium     Nitin Menon   \n",
       "3      GJ Maxwell                     Holkar Cricket Stadium    AK Chaudhary   \n",
       "5     Rashid Khan  Rajiv Gandhi International Stadium, Uppal      A Deshmukh   \n",
       "6          N Rana                           Wankhede Stadium     Nitin Menon   \n",
       "\n",
       "         umpire2 umpire3  \n",
       "1         S Ravi     NaN  \n",
       "2      CK Nandan     NaN  \n",
       "3  C Shamshuddin     NaN  \n",
       "5       NJ Llong     NaN  \n",
       "6      CK Nandan     NaN  "
      ]
     },
     "execution_count": 36,
     "metadata": {},
     "output_type": "execute_result"
    }
   ],
   "source": [
    "batting_second.head()"
   ]
  },
  {
   "cell_type": "code",
   "execution_count": 38,
   "id": "08973f05",
   "metadata": {},
   "outputs": [
    {
     "data": {
      "image/png": "[encoded data removed]",
      "text/plain": [
       "<Figure size 360x360 with 1 Axes>"
      ]
     },
     "metadata": {
      "needs_background": "light"
     },
     "output_type": "display_data"
    }
   ],
   "source": [
    "# plotting histogram\n",
    "plt.figure(figsize=(5,5))\n",
    "plt.hist(batting_second['win_by_wickets'], bins=40)\n",
    "plt.show()"
   ]
  },
  {
   "cell_type": "code",
   "execution_count": 39,
   "id": "66201eef",
   "metadata": {},
   "outputs": [
    {
     "data": {
      "text/plain": [
       "Kolkata Knight Riders          56\n",
       "Mumbai Indians                 50\n",
       "Royal Challengers Bangalore    48\n",
       "Chennai Super Kings            48\n",
       "Rajasthan Royals               46\n",
       "Kings XI Punjab                42\n",
       "Delhi Daredevils               42\n",
       "Sunrisers Hyderabad            27\n",
       "Gujarat Lions                  12\n",
       "Deccan Chargers                11\n",
       "Pune Warriors                   6\n",
       "Delhi Capitals                  6\n",
       "Rising Pune Supergiant          5\n",
       "Kochi Tuskers Kerala            4\n",
       "Rising Pune Supergiants         3\n",
       "Name: winner, dtype: int64"
      ]
     },
     "execution_count": 39,
     "metadata": {},
     "output_type": "execute_result"
    }
   ],
   "source": [
    "# # second batting wins w.r.t teams\n",
    "batting_second['winner'].value_counts()"
   ]
  },
  {
   "cell_type": "code",
   "execution_count": 40,
   "id": "f171d9e9",
   "metadata": {},
   "outputs": [],
   "source": [
    "# bar plot for top3 teams"
   ]
  },
  {
   "cell_type": "code",
   "execution_count": 42,
   "id": "f3376c53",
   "metadata": {},
   "outputs": [
    {
     "data": {
      "image/png": "[encoded data removed]",
      "text/plain": [
       "<Figure size 504x504 with 1 Axes>"
      ]
     },
     "metadata": {
      "needs_background": "light"
     },
     "output_type": "display_data"
    }
   ],
   "source": [
    "plt.figure(figsize=(7,7))\n",
    "plt.bar(list(batting_second['winner'].value_counts()[0:3].keys()), list(batting_second['winner'].value_counts()[0:3]), color=[\"purple\",\"blue\",\"red\"])\n",
    "plt.show()"
   ]
  },
  {
   "cell_type": "code",
   "execution_count": 43,
   "id": "28111d4a",
   "metadata": {},
   "outputs": [],
   "source": [
    "# pie chart"
   ]
  },
  {
   "cell_type": "code",
   "execution_count": 48,
   "id": "451e630a",
   "metadata": {},
   "outputs": [
    {
     "data": {
      "image/png": "[encoded data removed]",
      "text/plain": [
       "<Figure size 576x576 with 1 Axes>"
      ]
     },
     "metadata": {},
     "output_type": "display_data"
    }
   ],
   "source": [
    "plt.figure(figsize=(8,8))\n",
    "plt.pie(list(batting_second['winner'].value_counts()), labels=list(batting_second['winner'].value_counts().keys()) , autopct='%0.1f%%')\n",
    "plt.show()"
   ]
  },
  {
   "cell_type": "code",
   "execution_count": 50,
   "id": "478f5dbb",
   "metadata": {},
   "outputs": [
    {
     "data": {
      "text/plain": [
       "IPL-2013    76\n",
       "IPL-2012    74\n",
       "IPL-2011    73\n",
       "IPL-2010    60\n",
       "IPL-2014    60\n",
       "IPL-2016    60\n",
       "IPL-2018    60\n",
       "IPL-2019    60\n",
       "IPL-2017    59\n",
       "IPL-2015    59\n",
       "IPL-2008    58\n",
       "IPL-2009    57\n",
       "Name: Season, dtype: int64"
      ]
     },
     "execution_count": 50,
     "metadata": {},
     "output_type": "execute_result"
    }
   ],
   "source": [
    "# highest maches in a season\n",
    "ipl['Season'].value_counts()"
   ]
  },
  {
   "cell_type": "code",
   "execution_count": 51,
   "id": "9b4b1102",
   "metadata": {},
   "outputs": [
    {
     "data": {
      "text/plain": [
       "Mumbai            101\n",
       "Kolkata            77\n",
       "Delhi              74\n",
       "Bangalore          66\n",
       "Hyderabad          64\n",
       "Chennai            57\n",
       "Jaipur             47\n",
       "Chandigarh         46\n",
       "Pune               38\n",
       "Durban             15\n",
       "Bengaluru          14\n",
       "Visakhapatnam      13\n",
       "Centurion          12\n",
       "Ahmedabad          12\n",
       "Rajkot             10\n",
       "Mohali             10\n",
       "Indore              9\n",
       "Dharamsala          9\n",
       "Johannesburg        8\n",
       "Cuttack             7\n",
       "Ranchi              7\n",
       "Port Elizabeth      7\n",
       "Cape Town           7\n",
       "Abu Dhabi           7\n",
       "Sharjah             6\n",
       "Raipur              6\n",
       "Kochi               5\n",
       "Kanpur              4\n",
       "Nagpur              3\n",
       "Kimberley           3\n",
       "East London         3\n",
       "Bloemfontein        2\n",
       "Name: city, dtype: int64"
      ]
     },
     "execution_count": 51,
     "metadata": {},
     "output_type": "execute_result"
    }
   ],
   "source": [
    "# matches in season\n",
    "ipl['city'].value_counts()"
   ]
  },
  {
   "cell_type": "code",
   "execution_count": 52,
   "id": "69463fb4",
   "metadata": {},
   "outputs": [],
   "source": [
    "# toss and win relation\n",
    "import numpy as np"
   ]
  },
  {
   "cell_type": "code",
   "execution_count": 53,
   "id": "6aaa46da",
   "metadata": {},
   "outputs": [
    {
     "data": {
      "text/plain": [
       "393"
      ]
     },
     "execution_count": 53,
     "metadata": {},
     "output_type": "execute_result"
    }
   ],
   "source": [
    "np.sum(ipl['toss_winner'] == ipl['winner'])"
   ]
  },
  {
   "cell_type": "code",
   "execution_count": 54,
   "id": "9eacd65a",
   "metadata": {},
   "outputs": [
    {
     "data": {
      "text/html": [
       "<div>\n",
       "<style scoped>\n",
       "    .dataframe tbody tr th:only-of-type {\n",
       "        vertical-align: middle;\n",
       "    }\n",
       "\n",
       "    .dataframe tbody tr th {\n",
       "        vertical-align: top;\n",
       "    }\n",
       "\n",
       "    .dataframe thead th {\n",
       "        text-align: right;\n",
       "    }\n",
       "</style>\n",
       "<table border=\"1\" class=\"dataframe\">\n",
       "  <thead>\n",
       "    <tr style=\"text-align: right;\">\n",
       "      <th></th>\n",
       "      <th>match_id</th>\n",
       "      <th>inning</th>\n",
       "      <th>batting_team</th>\n",
       "      <th>bowling_team</th>\n",
       "      <th>over</th>\n",
       "      <th>ball</th>\n",
       "      <th>batsman</th>\n",
       "      <th>non_striker</th>\n",
       "      <th>bowler</th>\n",
       "      <th>is_super_over</th>\n",
       "      <th>...</th>\n",
       "      <th>bye_runs</th>\n",
       "      <th>legbye_runs</th>\n",
       "      <th>noball_runs</th>\n",
       "      <th>penalty_runs</th>\n",
       "      <th>batsman_runs</th>\n",
       "      <th>extra_runs</th>\n",
       "      <th>total_runs</th>\n",
       "      <th>player_dismissed</th>\n",
       "      <th>dismissal_kind</th>\n",
       "      <th>fielder</th>\n",
       "    </tr>\n",
       "  </thead>\n",
       "  <tbody>\n",
       "    <tr>\n",
       "      <th>0</th>\n",
       "      <td>1.0</td>\n",
       "      <td>1.0</td>\n",
       "      <td>Sunrisers Hyderabad</td>\n",
       "      <td>Royal Challengers Bangalore</td>\n",
       "      <td>1.0</td>\n",
       "      <td>1.0</td>\n",
       "      <td>DA Warner</td>\n",
       "      <td>S Dhawan</td>\n",
       "      <td>TS Mills</td>\n",
       "      <td>0.0</td>\n",
       "      <td>...</td>\n",
       "      <td>0.0</td>\n",
       "      <td>0.0</td>\n",
       "      <td>0.0</td>\n",
       "      <td>0.0</td>\n",
       "      <td>0.0</td>\n",
       "      <td>0.0</td>\n",
       "      <td>0.0</td>\n",
       "      <td>NaN</td>\n",
       "      <td>NaN</td>\n",
       "      <td>NaN</td>\n",
       "    </tr>\n",
       "    <tr>\n",
       "      <th>1</th>\n",
       "      <td>1.0</td>\n",
       "      <td>1.0</td>\n",
       "      <td>Sunrisers Hyderabad</td>\n",
       "      <td>Royal Challengers Bangalore</td>\n",
       "      <td>1.0</td>\n",
       "      <td>2.0</td>\n",
       "      <td>DA Warner</td>\n",
       "      <td>S Dhawan</td>\n",
       "      <td>TS Mills</td>\n",
       "      <td>0.0</td>\n",
       "      <td>...</td>\n",
       "      <td>0.0</td>\n",
       "      <td>0.0</td>\n",
       "      <td>0.0</td>\n",
       "      <td>0.0</td>\n",
       "      <td>0.0</td>\n",
       "      <td>0.0</td>\n",
       "      <td>0.0</td>\n",
       "      <td>NaN</td>\n",
       "      <td>NaN</td>\n",
       "      <td>NaN</td>\n",
       "    </tr>\n",
       "    <tr>\n",
       "      <th>2</th>\n",
       "      <td>1.0</td>\n",
       "      <td>1.0</td>\n",
       "      <td>Sunrisers Hyderabad</td>\n",
       "      <td>Royal Challengers Bangalore</td>\n",
       "      <td>1.0</td>\n",
       "      <td>3.0</td>\n",
       "      <td>DA Warner</td>\n",
       "      <td>S Dhawan</td>\n",
       "      <td>TS Mills</td>\n",
       "      <td>0.0</td>\n",
       "      <td>...</td>\n",
       "      <td>0.0</td>\n",
       "      <td>0.0</td>\n",
       "      <td>0.0</td>\n",
       "      <td>0.0</td>\n",
       "      <td>4.0</td>\n",
       "      <td>0.0</td>\n",
       "      <td>4.0</td>\n",
       "      <td>NaN</td>\n",
       "      <td>NaN</td>\n",
       "      <td>NaN</td>\n",
       "    </tr>\n",
       "    <tr>\n",
       "      <th>3</th>\n",
       "      <td>1.0</td>\n",
       "      <td>1.0</td>\n",
       "      <td>Sunrisers Hyderabad</td>\n",
       "      <td>Royal Challengers Bangalore</td>\n",
       "      <td>1.0</td>\n",
       "      <td>4.0</td>\n",
       "      <td>DA Warner</td>\n",
       "      <td>S Dhawan</td>\n",
       "      <td>TS Mills</td>\n",
       "      <td>0.0</td>\n",
       "      <td>...</td>\n",
       "      <td>0.0</td>\n",
       "      <td>0.0</td>\n",
       "      <td>0.0</td>\n",
       "      <td>0.0</td>\n",
       "      <td>0.0</td>\n",
       "      <td>0.0</td>\n",
       "      <td>0.0</td>\n",
       "      <td>NaN</td>\n",
       "      <td>NaN</td>\n",
       "      <td>NaN</td>\n",
       "    </tr>\n",
       "    <tr>\n",
       "      <th>4</th>\n",
       "      <td>1.0</td>\n",
       "      <td>1.0</td>\n",
       "      <td>Sunrisers Hyderabad</td>\n",
       "      <td>Royal Challengers Bangalore</td>\n",
       "      <td>1.0</td>\n",
       "      <td>5.0</td>\n",
       "      <td>DA Warner</td>\n",
       "      <td>S Dhawan</td>\n",
       "      <td>TS Mills</td>\n",
       "      <td>0.0</td>\n",
       "      <td>...</td>\n",
       "      <td>0.0</td>\n",
       "      <td>0.0</td>\n",
       "      <td>0.0</td>\n",
       "      <td>0.0</td>\n",
       "      <td>0.0</td>\n",
       "      <td>2.0</td>\n",
       "      <td>2.0</td>\n",
       "      <td>NaN</td>\n",
       "      <td>NaN</td>\n",
       "      <td>NaN</td>\n",
       "    </tr>\n",
       "  </tbody>\n",
       "</table>\n",
       "<p>5 rows × 21 columns</p>\n",
       "</div>"
      ],
      "text/plain": [
       "   match_id  inning         batting_team                 bowling_team  over  \\\n",
       "0       1.0     1.0  Sunrisers Hyderabad  Royal Challengers Bangalore   1.0   \n",
       "1       1.0     1.0  Sunrisers Hyderabad  Royal Challengers Bangalore   1.0   \n",
       "2       1.0     1.0  Sunrisers Hyderabad  Royal Challengers Bangalore   1.0   \n",
       "3       1.0     1.0  Sunrisers Hyderabad  Royal Challengers Bangalore   1.0   \n",
       "4       1.0     1.0  Sunrisers Hyderabad  Royal Challengers Bangalore   1.0   \n",
       "\n",
       "   ball    batsman non_striker    bowler  is_super_over  ...  bye_runs  \\\n",
       "0   1.0  DA Warner    S Dhawan  TS Mills            0.0  ...       0.0   \n",
       "1   2.0  DA Warner    S Dhawan  TS Mills            0.0  ...       0.0   \n",
       "2   3.0  DA Warner    S Dhawan  TS Mills            0.0  ...       0.0   \n",
       "3   4.0  DA Warner    S Dhawan  TS Mills            0.0  ...       0.0   \n",
       "4   5.0  DA Warner    S Dhawan  TS Mills            0.0  ...       0.0   \n",
       "\n",
       "   legbye_runs  noball_runs  penalty_runs  batsman_runs  extra_runs  \\\n",
       "0          0.0          0.0           0.0           0.0         0.0   \n",
       "1          0.0          0.0           0.0           0.0         0.0   \n",
       "2          0.0          0.0           0.0           4.0         0.0   \n",
       "3          0.0          0.0           0.0           0.0         0.0   \n",
       "4          0.0          0.0           0.0           0.0         2.0   \n",
       "\n",
       "   total_runs  player_dismissed dismissal_kind fielder  \n",
       "0         0.0               NaN            NaN     NaN  \n",
       "1         0.0               NaN            NaN     NaN  \n",
       "2         4.0               NaN            NaN     NaN  \n",
       "3         0.0               NaN            NaN     NaN  \n",
       "4         2.0               NaN            NaN     NaN  \n",
       "\n",
       "[5 rows x 21 columns]"
      ]
     },
     "execution_count": 54,
     "metadata": {},
     "output_type": "execute_result"
    }
   ],
   "source": [
    "deliveries = pd.read_excel('F:\\deliveries.xlsx')\n",
    "deliveries.head()"
   ]
  },
  {
   "cell_type": "code",
   "execution_count": 55,
   "id": "7b486900",
   "metadata": {},
   "outputs": [
    {
     "data": {
      "text/plain": [
       "array([1.0000e+00, 2.0000e+00, 3.0000e+00, 4.0000e+00, 5.0000e+00,\n",
       "       6.0000e+00, 7.0000e+00, 8.0000e+00, 9.0000e+00, 1.0000e+01,\n",
       "       1.1000e+01, 1.2000e+01, 1.3000e+01, 1.4000e+01, 1.5000e+01,\n",
       "       1.6000e+01, 1.7000e+01, 1.8000e+01, 1.9000e+01, 2.0000e+01,\n",
       "       2.1000e+01, 2.2000e+01, 2.3000e+01, 2.4000e+01, 2.5000e+01,\n",
       "       2.6000e+01, 2.7000e+01, 2.8000e+01, 2.9000e+01, 3.0000e+01,\n",
       "       3.1000e+01, 3.2000e+01, 3.3000e+01, 3.4000e+01, 3.5000e+01,\n",
       "       3.6000e+01, 3.7000e+01, 3.8000e+01, 3.9000e+01, 4.0000e+01,\n",
       "       4.1000e+01, 4.2000e+01, 4.3000e+01, 4.4000e+01, 4.5000e+01,\n",
       "       4.6000e+01, 4.7000e+01, 4.8000e+01, 4.9000e+01, 5.0000e+01,\n",
       "       5.1000e+01, 5.2000e+01, 5.3000e+01, 5.4000e+01, 5.5000e+01,\n",
       "       5.6000e+01, 5.7000e+01, 5.8000e+01, 5.9000e+01, 6.0000e+01,\n",
       "       6.1000e+01, 6.2000e+01, 6.3000e+01, 6.4000e+01, 6.5000e+01,\n",
       "       6.6000e+01, 6.7000e+01, 6.8000e+01, 6.9000e+01, 7.0000e+01,\n",
       "       7.1000e+01, 7.2000e+01, 7.3000e+01, 7.4000e+01, 7.5000e+01,\n",
       "       7.6000e+01, 7.7000e+01, 7.8000e+01, 7.9000e+01, 8.0000e+01,\n",
       "       8.1000e+01, 8.2000e+01, 8.3000e+01, 8.4000e+01, 8.5000e+01,\n",
       "       8.6000e+01, 8.7000e+01, 8.8000e+01, 8.9000e+01, 9.0000e+01,\n",
       "       9.1000e+01, 9.2000e+01, 9.3000e+01, 9.4000e+01, 9.5000e+01,\n",
       "       9.6000e+01, 9.7000e+01, 9.8000e+01, 9.9000e+01, 1.0000e+02,\n",
       "       1.0100e+02, 1.0200e+02, 1.0300e+02, 1.0400e+02, 1.0500e+02,\n",
       "       1.0600e+02, 1.0700e+02, 1.0800e+02, 1.0900e+02, 1.1000e+02,\n",
       "       1.1100e+02, 1.1200e+02, 1.1300e+02, 1.1400e+02, 1.1500e+02,\n",
       "       1.1600e+02, 1.1700e+02, 1.1800e+02, 1.1900e+02, 1.2000e+02,\n",
       "       1.2100e+02, 1.2200e+02, 1.2300e+02, 1.2400e+02, 1.2500e+02,\n",
       "       1.2600e+02, 1.2700e+02, 1.2800e+02, 1.2900e+02, 1.3000e+02,\n",
       "       1.3100e+02, 1.3200e+02, 1.3300e+02, 1.3400e+02, 1.3500e+02,\n",
       "       1.3600e+02, 1.3700e+02, 1.3800e+02, 1.3900e+02, 1.4000e+02,\n",
       "       1.4100e+02, 1.4200e+02, 1.4300e+02, 1.4400e+02, 1.4500e+02,\n",
       "       1.4600e+02, 1.4700e+02, 1.4800e+02, 1.4900e+02, 1.5000e+02,\n",
       "       1.5100e+02, 1.5200e+02, 1.5300e+02, 1.5400e+02, 1.5500e+02,\n",
       "       1.5600e+02, 1.5700e+02, 1.5800e+02, 1.5900e+02, 1.6000e+02,\n",
       "       1.6100e+02, 1.6200e+02, 1.6300e+02, 1.6400e+02, 1.6500e+02,\n",
       "       1.6600e+02, 1.6700e+02, 1.6800e+02, 1.6900e+02, 1.7000e+02,\n",
       "       1.7100e+02, 1.7200e+02, 1.7300e+02, 1.7400e+02, 1.7500e+02,\n",
       "       1.7600e+02, 1.7700e+02, 1.7800e+02, 1.7900e+02, 1.8000e+02,\n",
       "       1.8100e+02, 1.8200e+02, 1.8300e+02, 1.8400e+02, 1.8500e+02,\n",
       "       1.8600e+02, 1.8700e+02, 1.8800e+02, 1.8900e+02, 1.9000e+02,\n",
       "       1.9100e+02, 1.9200e+02, 1.9300e+02, 1.9400e+02, 1.9500e+02,\n",
       "       1.9600e+02, 1.9700e+02, 1.9800e+02, 1.9900e+02, 2.0000e+02,\n",
       "       2.0100e+02, 2.0200e+02, 2.0300e+02, 2.0400e+02, 2.0500e+02,\n",
       "       2.0600e+02, 2.0700e+02, 2.0800e+02, 2.0900e+02, 2.1000e+02,\n",
       "       2.1100e+02, 2.1200e+02, 2.1300e+02, 2.1400e+02, 2.1500e+02,\n",
       "       2.1600e+02, 2.1700e+02, 2.1800e+02, 2.1900e+02, 2.2000e+02,\n",
       "       2.2100e+02, 2.2200e+02, 2.2300e+02, 2.2400e+02, 2.2500e+02,\n",
       "       2.2600e+02, 2.2700e+02, 2.2800e+02, 2.2900e+02, 2.3000e+02,\n",
       "       2.3100e+02, 2.3200e+02, 2.3300e+02, 2.3400e+02, 2.3500e+02,\n",
       "       2.3600e+02, 2.3700e+02, 2.3800e+02, 2.3900e+02, 2.4000e+02,\n",
       "       2.4100e+02, 2.4200e+02, 2.4300e+02, 2.4400e+02, 2.4500e+02,\n",
       "       2.4600e+02, 2.4700e+02, 2.4800e+02, 2.4900e+02, 2.5000e+02,\n",
       "       2.5100e+02, 2.5200e+02, 2.5300e+02, 2.5400e+02, 2.5500e+02,\n",
       "       2.5600e+02, 2.5700e+02, 2.5800e+02, 2.5900e+02, 2.6000e+02,\n",
       "       2.6100e+02, 2.6200e+02, 2.6300e+02, 2.6400e+02, 2.6500e+02,\n",
       "       2.6600e+02, 2.6700e+02, 2.6800e+02, 2.6900e+02, 2.7000e+02,\n",
       "       2.7100e+02, 2.7200e+02, 2.7300e+02, 2.7400e+02, 2.7500e+02,\n",
       "       2.7600e+02, 2.7700e+02, 2.7800e+02, 2.7900e+02, 2.8000e+02,\n",
       "       2.8100e+02, 2.8200e+02, 2.8300e+02, 2.8400e+02, 2.8500e+02,\n",
       "       2.8600e+02, 2.8700e+02, 2.8800e+02, 2.8900e+02, 2.9000e+02,\n",
       "       2.9100e+02, 2.9200e+02, 2.9300e+02, 2.9400e+02, 2.9500e+02,\n",
       "       2.9600e+02, 2.9700e+02, 2.9800e+02, 2.9900e+02, 3.0000e+02,\n",
       "       3.0100e+02, 3.0200e+02, 3.0300e+02, 3.0400e+02, 3.0500e+02,\n",
       "       3.0600e+02, 3.0700e+02, 3.0800e+02, 3.0900e+02, 3.1000e+02,\n",
       "       3.1100e+02, 3.1200e+02, 3.1300e+02, 3.1400e+02, 3.1500e+02,\n",
       "       3.1600e+02, 3.1700e+02, 3.1800e+02, 3.1900e+02, 3.2000e+02,\n",
       "       3.2100e+02, 3.2200e+02, 3.2300e+02, 3.2400e+02, 3.2500e+02,\n",
       "       3.2600e+02, 3.2700e+02, 3.2800e+02, 3.2900e+02, 3.3000e+02,\n",
       "       3.3100e+02, 3.3200e+02, 3.3300e+02, 3.3400e+02, 3.3500e+02,\n",
       "       3.3600e+02, 3.3700e+02, 3.3800e+02, 3.3900e+02, 3.4000e+02,\n",
       "       3.4100e+02, 3.4200e+02, 3.4300e+02, 3.4400e+02, 3.4500e+02,\n",
       "       3.4600e+02, 3.4700e+02, 3.4800e+02, 3.4900e+02, 3.5000e+02,\n",
       "       3.5100e+02, 3.5200e+02, 3.5300e+02, 3.5400e+02, 3.5500e+02,\n",
       "       3.5600e+02, 3.5700e+02, 3.5800e+02, 3.5900e+02, 3.6000e+02,\n",
       "       3.6100e+02, 3.6200e+02, 3.6300e+02, 3.6400e+02, 3.6500e+02,\n",
       "       3.6600e+02, 3.6700e+02, 3.6800e+02, 3.6900e+02, 3.7000e+02,\n",
       "       3.7100e+02, 3.7200e+02, 3.7300e+02, 3.7400e+02, 3.7500e+02,\n",
       "       3.7600e+02, 3.7700e+02, 3.7800e+02, 3.7900e+02, 3.8000e+02,\n",
       "       3.8100e+02, 3.8200e+02, 3.8300e+02, 3.8400e+02, 3.8500e+02,\n",
       "       3.8600e+02, 3.8700e+02, 3.8800e+02, 3.8900e+02, 3.9000e+02,\n",
       "       3.9100e+02, 3.9200e+02, 3.9300e+02, 3.9400e+02, 3.9500e+02,\n",
       "       3.9600e+02, 3.9700e+02, 3.9800e+02, 3.9900e+02, 4.0000e+02,\n",
       "       4.0100e+02, 4.0200e+02, 4.0300e+02, 4.0400e+02, 4.0500e+02,\n",
       "       4.0600e+02, 4.0700e+02, 4.0800e+02, 4.0900e+02, 4.1000e+02,\n",
       "       4.1100e+02, 4.1200e+02, 4.1300e+02, 4.1400e+02, 4.1500e+02,\n",
       "       4.1600e+02, 4.1700e+02, 4.1800e+02, 4.1900e+02, 4.2000e+02,\n",
       "       4.2100e+02, 4.2200e+02, 4.2300e+02, 4.2400e+02, 4.2500e+02,\n",
       "       4.2600e+02, 4.2700e+02, 4.2800e+02, 4.2900e+02, 4.3000e+02,\n",
       "       4.3100e+02, 4.3200e+02, 4.3300e+02, 4.3400e+02, 4.3500e+02,\n",
       "       4.3600e+02, 4.3700e+02, 4.3800e+02, 4.3900e+02, 4.4000e+02,\n",
       "       4.4100e+02, 4.4200e+02, 4.4300e+02, 4.4400e+02, 4.4500e+02,\n",
       "       4.4600e+02, 4.4700e+02, 4.4800e+02, 4.4900e+02, 4.5000e+02,\n",
       "       4.5100e+02, 4.5200e+02, 4.5300e+02, 4.5400e+02, 4.5500e+02,\n",
       "       4.5600e+02, 4.5700e+02, 4.5800e+02, 4.5900e+02, 4.6000e+02,\n",
       "       4.6100e+02, 4.6200e+02, 4.6300e+02, 4.6400e+02, 4.6500e+02,\n",
       "       4.6600e+02, 4.6700e+02, 4.6800e+02, 4.6900e+02, 4.7000e+02,\n",
       "       4.7100e+02, 4.7200e+02, 4.7300e+02, 4.7400e+02, 4.7500e+02,\n",
       "       4.7600e+02, 4.7700e+02, 4.7800e+02, 4.7900e+02, 4.8000e+02,\n",
       "       4.8100e+02, 4.8200e+02, 4.8300e+02, 4.8400e+02, 4.8500e+02,\n",
       "       4.8600e+02, 4.8700e+02, 4.8800e+02, 4.8900e+02, 4.9000e+02,\n",
       "       4.9100e+02, 4.9200e+02, 4.9300e+02, 4.9400e+02, 4.9500e+02,\n",
       "       4.9600e+02, 4.9700e+02, 4.9800e+02, 4.9900e+02, 5.0000e+02,\n",
       "       5.0100e+02, 5.0200e+02, 5.0300e+02, 5.0400e+02, 5.0500e+02,\n",
       "       5.0600e+02, 5.0700e+02, 5.0800e+02, 5.0900e+02, 5.1000e+02,\n",
       "       5.1100e+02, 5.1200e+02, 5.1300e+02, 5.1400e+02, 5.1500e+02,\n",
       "       5.1600e+02, 5.1700e+02, 5.1800e+02, 5.1900e+02, 5.2000e+02,\n",
       "       5.2100e+02, 5.2200e+02, 5.2300e+02, 5.2400e+02, 5.2500e+02,\n",
       "       5.2600e+02, 5.2700e+02, 5.2800e+02, 5.2900e+02, 5.3000e+02,\n",
       "       5.3100e+02, 5.3200e+02, 5.3300e+02, 5.3400e+02, 5.3500e+02,\n",
       "       5.3600e+02, 5.3700e+02, 5.3800e+02, 5.3900e+02, 5.4000e+02,\n",
       "       5.4100e+02, 5.4200e+02, 5.4300e+02, 5.4400e+02, 5.4500e+02,\n",
       "       5.4600e+02, 5.4700e+02, 5.4800e+02, 5.4900e+02, 5.5000e+02,\n",
       "       5.5100e+02, 5.5200e+02, 5.5300e+02, 5.5400e+02, 5.5500e+02,\n",
       "       5.5600e+02, 5.5700e+02, 5.5800e+02, 5.5900e+02, 5.6000e+02,\n",
       "       5.6100e+02, 5.6200e+02, 5.6300e+02, 5.6400e+02, 5.6500e+02,\n",
       "       5.6600e+02, 5.6700e+02, 5.6800e+02, 5.6900e+02, 5.7000e+02,\n",
       "       5.7100e+02, 5.7200e+02, 5.7300e+02, 5.7400e+02, 5.7500e+02,\n",
       "       5.7600e+02, 5.7700e+02, 5.7800e+02, 5.7900e+02, 5.8000e+02,\n",
       "       5.8100e+02, 5.8200e+02, 5.8300e+02, 5.8400e+02, 5.8500e+02,\n",
       "       5.8600e+02, 5.8700e+02, 5.8800e+02, 5.8900e+02, 5.9000e+02,\n",
       "       5.9100e+02, 5.9200e+02, 5.9300e+02, 5.9400e+02, 5.9500e+02,\n",
       "       5.9600e+02, 5.9700e+02, 5.9800e+02, 5.9900e+02, 6.0000e+02,\n",
       "       6.0100e+02, 6.0200e+02, 6.0300e+02, 6.0400e+02, 6.0500e+02,\n",
       "       6.0600e+02, 6.0700e+02, 6.0800e+02, 6.0900e+02, 6.1000e+02,\n",
       "       6.1100e+02, 6.1200e+02, 6.1300e+02, 6.1400e+02, 6.1500e+02,\n",
       "       6.1600e+02, 6.1700e+02, 6.1800e+02, 6.1900e+02, 6.2000e+02,\n",
       "       6.2100e+02, 6.2200e+02, 6.2300e+02, 6.2400e+02, 6.2500e+02,\n",
       "       6.2600e+02, 6.2700e+02, 6.2800e+02, 6.2900e+02, 6.3000e+02,\n",
       "       6.3100e+02, 6.3200e+02, 6.3300e+02, 6.3400e+02, 6.3500e+02,\n",
       "       6.3600e+02, 7.8940e+03, 7.8950e+03, 7.8960e+03, 7.8970e+03,\n",
       "       7.8980e+03, 7.8990e+03, 7.9000e+03, 7.9010e+03, 7.9020e+03,\n",
       "       7.9030e+03, 7.9040e+03, 7.9050e+03, 7.9060e+03, 7.9070e+03,\n",
       "       7.9080e+03, 7.9090e+03, 7.9100e+03, 7.9110e+03, 7.9120e+03,\n",
       "       7.9130e+03, 7.9140e+03, 7.9150e+03, 7.9160e+03, 7.9170e+03,\n",
       "       7.9180e+03, 7.9190e+03, 7.9200e+03, 7.9210e+03, 7.9220e+03,\n",
       "       7.9230e+03, 7.9240e+03, 7.9250e+03, 7.9260e+03, 7.9270e+03,\n",
       "       7.9280e+03, 7.9290e+03, 7.9300e+03, 7.9310e+03, 7.9320e+03,\n",
       "       7.9330e+03, 7.9340e+03, 7.9350e+03, 7.9360e+03, 7.9370e+03,\n",
       "       7.9380e+03, 7.9390e+03, 7.9400e+03, 7.9410e+03, 7.9420e+03,\n",
       "       7.9430e+03, 7.9440e+03, 7.9450e+03, 7.9460e+03, 7.9470e+03,\n",
       "       7.9480e+03, 7.9490e+03, 7.9500e+03, 7.9510e+03, 7.9520e+03,\n",
       "       7.9530e+03, 1.1137e+04, 1.1138e+04, 1.1139e+04, 1.1140e+04,\n",
       "       1.1141e+04, 1.1142e+04, 1.1143e+04, 1.1144e+04, 1.1145e+04,\n",
       "       1.1146e+04, 1.1147e+04, 1.1148e+04, 1.1149e+04, 1.1150e+04,\n",
       "       1.1151e+04, 1.1152e+04, 1.1153e+04, 1.1309e+04, 1.1310e+04,\n",
       "       1.1311e+04, 1.1312e+04, 1.1313e+04, 1.1314e+04, 1.1315e+04,\n",
       "       1.1316e+04, 1.1317e+04, 1.1318e+04, 1.1319e+04, 1.1320e+04,\n",
       "       1.1321e+04, 1.1322e+04, 1.1323e+04, 1.1324e+04, 1.1325e+04,\n",
       "       1.1326e+04, 1.1327e+04, 1.1328e+04, 1.1329e+04, 1.1330e+04,\n",
       "       1.1331e+04, 1.1332e+04, 1.1333e+04, 1.1334e+04, 1.1335e+04,\n",
       "       1.1336e+04, 1.1337e+04, 1.1338e+04, 1.1339e+04, 1.1340e+04,\n",
       "       1.1341e+04, 1.1342e+04, 1.1343e+04, 1.1344e+04, 1.1345e+04,\n",
       "       1.1346e+04, 1.1347e+04, 1.1412e+04, 1.1413e+04, 1.1414e+04,\n",
       "       1.1415e+04])"
      ]
     },
     "execution_count": 55,
     "metadata": {},
     "output_type": "execute_result"
    }
   ],
   "source": [
    "deliveries['match_id'].unique()"
   ]
  },
  {
   "cell_type": "code",
   "execution_count": 56,
   "id": "8ca414e6",
   "metadata": {},
   "outputs": [
    {
     "data": {
      "text/html": [
       "<div>\n",
       "<style scoped>\n",
       "    .dataframe tbody tr th:only-of-type {\n",
       "        vertical-align: middle;\n",
       "    }\n",
       "\n",
       "    .dataframe tbody tr th {\n",
       "        vertical-align: top;\n",
       "    }\n",
       "\n",
       "    .dataframe thead th {\n",
       "        text-align: right;\n",
       "    }\n",
       "</style>\n",
       "<table border=\"1\" class=\"dataframe\">\n",
       "  <thead>\n",
       "    <tr style=\"text-align: right;\">\n",
       "      <th></th>\n",
       "      <th>match_id</th>\n",
       "      <th>inning</th>\n",
       "      <th>batting_team</th>\n",
       "      <th>bowling_team</th>\n",
       "      <th>over</th>\n",
       "      <th>ball</th>\n",
       "      <th>batsman</th>\n",
       "      <th>non_striker</th>\n",
       "      <th>bowler</th>\n",
       "      <th>is_super_over</th>\n",
       "      <th>...</th>\n",
       "      <th>bye_runs</th>\n",
       "      <th>legbye_runs</th>\n",
       "      <th>noball_runs</th>\n",
       "      <th>penalty_runs</th>\n",
       "      <th>batsman_runs</th>\n",
       "      <th>extra_runs</th>\n",
       "      <th>total_runs</th>\n",
       "      <th>player_dismissed</th>\n",
       "      <th>dismissal_kind</th>\n",
       "      <th>fielder</th>\n",
       "    </tr>\n",
       "  </thead>\n",
       "  <tbody>\n",
       "    <tr>\n",
       "      <th>0</th>\n",
       "      <td>1.0</td>\n",
       "      <td>1.0</td>\n",
       "      <td>Sunrisers Hyderabad</td>\n",
       "      <td>Royal Challengers Bangalore</td>\n",
       "      <td>1.0</td>\n",
       "      <td>1.0</td>\n",
       "      <td>DA Warner</td>\n",
       "      <td>S Dhawan</td>\n",
       "      <td>TS Mills</td>\n",
       "      <td>0.0</td>\n",
       "      <td>...</td>\n",
       "      <td>0.0</td>\n",
       "      <td>0.0</td>\n",
       "      <td>0.0</td>\n",
       "      <td>0.0</td>\n",
       "      <td>0.0</td>\n",
       "      <td>0.0</td>\n",
       "      <td>0.0</td>\n",
       "      <td>NaN</td>\n",
       "      <td>NaN</td>\n",
       "      <td>NaN</td>\n",
       "    </tr>\n",
       "    <tr>\n",
       "      <th>1</th>\n",
       "      <td>1.0</td>\n",
       "      <td>1.0</td>\n",
       "      <td>Sunrisers Hyderabad</td>\n",
       "      <td>Royal Challengers Bangalore</td>\n",
       "      <td>1.0</td>\n",
       "      <td>2.0</td>\n",
       "      <td>DA Warner</td>\n",
       "      <td>S Dhawan</td>\n",
       "      <td>TS Mills</td>\n",
       "      <td>0.0</td>\n",
       "      <td>...</td>\n",
       "      <td>0.0</td>\n",
       "      <td>0.0</td>\n",
       "      <td>0.0</td>\n",
       "      <td>0.0</td>\n",
       "      <td>0.0</td>\n",
       "      <td>0.0</td>\n",
       "      <td>0.0</td>\n",
       "      <td>NaN</td>\n",
       "      <td>NaN</td>\n",
       "      <td>NaN</td>\n",
       "    </tr>\n",
       "    <tr>\n",
       "      <th>2</th>\n",
       "      <td>1.0</td>\n",
       "      <td>1.0</td>\n",
       "      <td>Sunrisers Hyderabad</td>\n",
       "      <td>Royal Challengers Bangalore</td>\n",
       "      <td>1.0</td>\n",
       "      <td>3.0</td>\n",
       "      <td>DA Warner</td>\n",
       "      <td>S Dhawan</td>\n",
       "      <td>TS Mills</td>\n",
       "      <td>0.0</td>\n",
       "      <td>...</td>\n",
       "      <td>0.0</td>\n",
       "      <td>0.0</td>\n",
       "      <td>0.0</td>\n",
       "      <td>0.0</td>\n",
       "      <td>4.0</td>\n",
       "      <td>0.0</td>\n",
       "      <td>4.0</td>\n",
       "      <td>NaN</td>\n",
       "      <td>NaN</td>\n",
       "      <td>NaN</td>\n",
       "    </tr>\n",
       "    <tr>\n",
       "      <th>3</th>\n",
       "      <td>1.0</td>\n",
       "      <td>1.0</td>\n",
       "      <td>Sunrisers Hyderabad</td>\n",
       "      <td>Royal Challengers Bangalore</td>\n",
       "      <td>1.0</td>\n",
       "      <td>4.0</td>\n",
       "      <td>DA Warner</td>\n",
       "      <td>S Dhawan</td>\n",
       "      <td>TS Mills</td>\n",
       "      <td>0.0</td>\n",
       "      <td>...</td>\n",
       "      <td>0.0</td>\n",
       "      <td>0.0</td>\n",
       "      <td>0.0</td>\n",
       "      <td>0.0</td>\n",
       "      <td>0.0</td>\n",
       "      <td>0.0</td>\n",
       "      <td>0.0</td>\n",
       "      <td>NaN</td>\n",
       "      <td>NaN</td>\n",
       "      <td>NaN</td>\n",
       "    </tr>\n",
       "    <tr>\n",
       "      <th>4</th>\n",
       "      <td>1.0</td>\n",
       "      <td>1.0</td>\n",
       "      <td>Sunrisers Hyderabad</td>\n",
       "      <td>Royal Challengers Bangalore</td>\n",
       "      <td>1.0</td>\n",
       "      <td>5.0</td>\n",
       "      <td>DA Warner</td>\n",
       "      <td>S Dhawan</td>\n",
       "      <td>TS Mills</td>\n",
       "      <td>0.0</td>\n",
       "      <td>...</td>\n",
       "      <td>0.0</td>\n",
       "      <td>0.0</td>\n",
       "      <td>0.0</td>\n",
       "      <td>0.0</td>\n",
       "      <td>0.0</td>\n",
       "      <td>2.0</td>\n",
       "      <td>2.0</td>\n",
       "      <td>NaN</td>\n",
       "      <td>NaN</td>\n",
       "      <td>NaN</td>\n",
       "    </tr>\n",
       "  </tbody>\n",
       "</table>\n",
       "<p>5 rows × 21 columns</p>\n",
       "</div>"
      ],
      "text/plain": [
       "   match_id  inning         batting_team                 bowling_team  over  \\\n",
       "0       1.0     1.0  Sunrisers Hyderabad  Royal Challengers Bangalore   1.0   \n",
       "1       1.0     1.0  Sunrisers Hyderabad  Royal Challengers Bangalore   1.0   \n",
       "2       1.0     1.0  Sunrisers Hyderabad  Royal Challengers Bangalore   1.0   \n",
       "3       1.0     1.0  Sunrisers Hyderabad  Royal Challengers Bangalore   1.0   \n",
       "4       1.0     1.0  Sunrisers Hyderabad  Royal Challengers Bangalore   1.0   \n",
       "\n",
       "   ball    batsman non_striker    bowler  is_super_over  ...  bye_runs  \\\n",
       "0   1.0  DA Warner    S Dhawan  TS Mills            0.0  ...       0.0   \n",
       "1   2.0  DA Warner    S Dhawan  TS Mills            0.0  ...       0.0   \n",
       "2   3.0  DA Warner    S Dhawan  TS Mills            0.0  ...       0.0   \n",
       "3   4.0  DA Warner    S Dhawan  TS Mills            0.0  ...       0.0   \n",
       "4   5.0  DA Warner    S Dhawan  TS Mills            0.0  ...       0.0   \n",
       "\n",
       "   legbye_runs  noball_runs  penalty_runs  batsman_runs  extra_runs  \\\n",
       "0          0.0          0.0           0.0           0.0         0.0   \n",
       "1          0.0          0.0           0.0           0.0         0.0   \n",
       "2          0.0          0.0           0.0           4.0         0.0   \n",
       "3          0.0          0.0           0.0           0.0         0.0   \n",
       "4          0.0          0.0           0.0           0.0         2.0   \n",
       "\n",
       "   total_runs  player_dismissed dismissal_kind fielder  \n",
       "0         0.0               NaN            NaN     NaN  \n",
       "1         0.0               NaN            NaN     NaN  \n",
       "2         4.0               NaN            NaN     NaN  \n",
       "3         0.0               NaN            NaN     NaN  \n",
       "4         2.0               NaN            NaN     NaN  \n",
       "\n",
       "[5 rows x 21 columns]"
      ]
     },
     "execution_count": 56,
     "metadata": {},
     "output_type": "execute_result"
    }
   ],
   "source": [
    "match_1 = deliveries[deliveries['match_id'] == 1]\n",
    "match_1.head()"
   ]
  },
  {
   "cell_type": "code",
   "execution_count": 57,
   "id": "da37ff18",
   "metadata": {},
   "outputs": [
    {
     "data": {
      "text/plain": [
       "(248, 21)"
      ]
     },
     "execution_count": 57,
     "metadata": {},
     "output_type": "execute_result"
    }
   ],
   "source": [
    "match_1.shape"
   ]
  },
  {
   "cell_type": "code",
   "execution_count": 58,
   "id": "ef2b9170",
   "metadata": {},
   "outputs": [],
   "source": [
    "srh = match_1[match_1['inning'] == 1]"
   ]
  },
  {
   "cell_type": "code",
   "execution_count": 59,
   "id": "3e04b369",
   "metadata": {},
   "outputs": [
    {
     "data": {
      "text/plain": [
       "1.0    57\n",
       "0.0    32\n",
       "4.0    17\n",
       "6.0     9\n",
       "2.0     9\n",
       "3.0     1\n",
       "Name: batsman_runs, dtype: int64"
      ]
     },
     "execution_count": 59,
     "metadata": {},
     "output_type": "execute_result"
    }
   ],
   "source": [
    "srh['batsman_runs'].value_counts()"
   ]
  },
  {
   "cell_type": "code",
   "execution_count": 60,
   "id": "f4effcc2",
   "metadata": {},
   "outputs": [
    {
     "data": {
      "text/plain": [
       "caught    3\n",
       "bowled    1\n",
       "Name: dismissal_kind, dtype: int64"
      ]
     },
     "execution_count": 60,
     "metadata": {},
     "output_type": "execute_result"
    }
   ],
   "source": [
    "srh['dismissal_kind'].value_counts()"
   ]
  },
  {
   "cell_type": "code",
   "execution_count": 61,
   "id": "aa22ecdb",
   "metadata": {},
   "outputs": [],
   "source": [
    "rcb = match_1[match_1['inning']== 2]"
   ]
  },
  {
   "cell_type": "code",
   "execution_count": 62,
   "id": "103dfbc2",
   "metadata": {},
   "outputs": [
    {
     "data": {
      "text/plain": [
       "0.0    49\n",
       "1.0    44\n",
       "4.0    15\n",
       "6.0     8\n",
       "2.0     7\n",
       "Name: batsman_runs, dtype: int64"
      ]
     },
     "execution_count": 62,
     "metadata": {},
     "output_type": "execute_result"
    }
   ],
   "source": [
    "rcb['batsman_runs'].value_counts()"
   ]
  },
  {
   "cell_type": "code",
   "execution_count": 63,
   "id": "6c2c4fe7",
   "metadata": {},
   "outputs": [
    {
     "data": {
      "text/plain": [
       "caught     6\n",
       "bowled     2\n",
       "run out    2\n",
       "Name: dismissal_kind, dtype: int64"
      ]
     },
     "execution_count": 63,
     "metadata": {},
     "output_type": "execute_result"
    }
   ],
   "source": [
    "rcb['dismissal_kind'].value_counts()"
   ]
  },
  {
   "cell_type": "code",
   "execution_count": null,
   "id": "ef83fa67",
   "metadata": {},
   "outputs": [],
   "source": []
  }
 ],
 "metadata": {
  "kernelspec": {
   "display_name": "Python 3 (ipykernel)",
   "language": "python",
   "name": "python3"
  },
  "language_info": {
   "codemirror_mode": {
    "name": "ipython",
    "version": 3
   },
   "file_extension": ".py",
   "mimetype": "text/x-python",
   "name": "python",
   "nbconvert_exporter": "python",
   "pygments_lexer": "ipython3",
   "version": "3.9.7"
  }
 },
 "nbformat": 4,
 "nbformat_minor": 5
}
